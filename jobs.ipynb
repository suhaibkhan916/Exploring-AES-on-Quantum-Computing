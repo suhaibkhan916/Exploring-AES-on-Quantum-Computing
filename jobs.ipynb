{
 "cells": [
  {
   "cell_type": "code",
   "execution_count": 16,
   "metadata": {},
   "outputs": [],
   "source": [
    "from qiskit_ibm_runtime import QiskitRuntimeService\n",
    "\n",
    "# Authenticate to IBM Quantum using QiskitRuntimeService\n",
    "service = QiskitRuntimeService(channel=\"ibm_quantum\", token=\"9bq1db8ecdf455c71e9d97b2ba4c8e3cc6dbfcc1e2ffc3b92fd5c5c5777f92796798d6ef2bdc53aebc6da1fe7b205a6dc35114382f3172a9d167469d824539767\")\n"
   ]
  },
  {
   "cell_type": "code",
   "execution_count": null,
   "metadata": {},
   "outputs": [
    {
     "name": "stdout",
     "output_type": "stream",
     "text": [
      "Job ID: cttf8hjv0kkg008ptm20, Status: JobStatus.QUEUED\n",
      "Job ID: cttby4rseb10008wz1xg, Status: JobStatus.QUEUED\n",
      "Job ID: ctt02kt3zkm0008sasr0, Status: JobStatus.DONE\n",
      "Job ID: ctszw8sseb10008wxkag, Status: JobStatus.DONE\n",
      "Job ID: ctsysqy66x8g008pz1s0, Status: JobStatus.DONE\n"
     ]
    }
   ],
   "source": [
    "# List all jobs\n",
    "jobs = service.jobs(limit=5)  # List the last 5 jobs\n",
    "for job in jobs:\n",
    "    print(f\"Job ID: {job.job_id()}, Status: {job.status()}\")\n",
    "\n",
    "# Retrieve a specific job by its ID\n",
    "job_id = 'ctt02kt3zkm0008sasr0'\n",
    "job = service.job(job_id)"
   ]
  },
  {
   "cell_type": "code",
   "execution_count": 2,
   "metadata": {},
   "outputs": [
    {
     "name": "stdout",
     "output_type": "stream",
     "text": [
      "Job ID: ctxpfy7zwsvg008cashg, Status: JobStatus.DONE\n",
      "Job ID: ctxpcg22tz2g008zw0j0, Status: JobStatus.DONE\n",
      "Job ID: ctva14mseb10008x2wtg, Status: JobStatus.DONE\n",
      "Job ID: ctv5wrb46w90008rbyf0, Status: JobStatus.DONE\n",
      "Job ID: cttqyyvv0kkg008pvtyg, Status: JobStatus.DONE\n"
     ]
    }
   ],
   "source": [
    "from qiskit_ibm_runtime import QiskitRuntimeService\n",
    "from qiskit.visualization import plot_histogram\n",
    "import matplotlib.pyplot as plt\n",
    "\n",
    "# Authenticate to IBM Quantum using QiskitRuntimeService\n",
    "service = QiskitRuntimeService(channel=\"ibm_quantum\", token=\"9b1db8ecdf455c71e9d97b2ba4c8e3cc6dbfcc1e2ffc3b92fd5c5c5777f92796798d6ef2bdc53aebc6da1fe7b205a6dc35114382f3172a9d167469d824539767\")\n",
    "\n",
    "# List all jobs\n",
    "jobs = service.jobs(limit=5)  # List the last 5 jobs\n",
    "for job in jobs:\n",
    "    print(f\"Job ID: {job.job_id()}, Status: {job.status()}\")\n",
    "    \n"
   ]
  },
  {
   "cell_type": "code",
   "execution_count": 24,
   "metadata": {},
   "outputs": [
    {
     "name": "stdout",
     "output_type": "stream",
     "text": [
      "{'100100': 77, '010000': 60, '001001': 46, '001100': 50, '111000': 85, '101001': 40, '001101': 55, '001111': 42, '001110': 36, '100101': 71, '010110': 63, '000101': 87, '101111': 36, '100001': 80, '010010': 55, '010100': 65, '011100': 63, '110110': 57, '011011': 64, '000011': 70, '111010': 90, '101011': 33, '100011': 64, '101000': 39, '111101': 97, '111110': 86, '000110': 76, '010001': 52, '111111': 73, '011000': 80, '110011': 38, '110100': 51, '111011': 92, '110001': 52, '110111': 52, '011110': 65, '000000': 76, '100010': 74, '101010': 43, '010101': 52, '000010': 57, '101110': 47, '000100': 89, '000001': 85, '010011': 47, '101100': 53, '101101': 54, '110000': 42, '011101': 96, '000111': 69, '001011': 43, '001010': 39, '111100': 79, '010111': 50, '001000': 47, '011111': 74, '110101': 49, '011001': 80, '011010': 70, '100111': 63, '110010': 39, '111001': 103, '100110': 65, '100000': 73}\n"
     ]
    }
   ],
   "source": [
    "# Retrieve a specific job by its ID\n",
    "job_id = 'cttby4rseb10008wz1xg'\n",
    "job = service.job(job_id)\n",
    "\n",
    "# Fetch job result\n",
    "result = job.result()\n",
    "\n",
    "# Get counts\n",
    "counts = result.get_counts()\n",
    "\n",
    "# Print counts\n",
    "print(counts)\n",
    "\n",
    "# Plot the histogram\n",
    "plot_histogram(counts)\n",
    "plt.show()"
   ]
  },
  {
   "cell_type": "code",
   "execution_count": null,
   "metadata": {},
   "outputs": [],
   "source": []
  },
  {
   "cell_type": "code",
   "execution_count": null,
   "metadata": {},
   "outputs": [],
   "source": []
  },
  {
   "cell_type": "code",
   "execution_count": null,
   "metadata": {},
   "outputs": [],
   "source": []
  },
  {
   "cell_type": "code",
   "execution_count": null,
   "metadata": {},
   "outputs": [],
   "source": []
  },
  {
   "cell_type": "code",
   "execution_count": null,
   "metadata": {},
   "outputs": [],
   "source": []
  }
 ],
 "metadata": {
  "kernelspec": {
   "display_name": "Python 3 (ipykernel)",
   "language": "python",
   "name": "python3"
  }
 },
 "nbformat": 4,
 "nbformat_minor": 2
}
