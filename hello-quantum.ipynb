{
 "cells": [
  {
   "cell_type": "code",
   "execution_count": 1,
   "metadata": {
    "ExecuteTime": {
     "end_time": "2024-08-03T21:36:14.162310400Z",
     "start_time": "2024-08-03T21:36:14.067358600Z"
    }
   },
   "outputs": [
    {
     "data": {
      "image/png": "[encoded data removed]",
      "text/plain": [
       "<Figure size 287.294x200.667 with 1 Axes>"
      ]
     },
     "execution_count": 1,
     "metadata": {},
     "output_type": "execute_result"
    }
   ],
   "source": [
    "from qiskit import QuantumCircuit\n",
    "from qiskit.quantum_info import SparsePauliOp\n",
    "from qiskit.transpiler.preset_passmanagers import generate_preset_pass_manager\n",
    "from qiskit_ibm_runtime import EstimatorV2 as Estimator\n",
    "\n",
    "# Create a new circuit with two qubits\n",
    "qc = QuantumCircuit(2)\n",
    "\n",
    "# Add a Hadamard gate to qubit 0\n",
    "qc.h(0)\n",
    "\n",
    "# Perform a controlled-X gate on qubit 1, controlled by qubit 0\n",
    "qc.cx(0, 1)\n",
    "\n",
    "# Return a drawing of the circuit using MatPlotLib (\"mpl\"). This is the\n",
    "# last line of the cell, so the drawing appears in the cell output.\n",
    "# Remove the \"mpl\" argument to get a text drawing.\n",
    "qc.draw(\"mpl\")"
   ]
  },
  {
   "cell_type": "markdown",
   "metadata": {},
   "source": [
    "# AES Implementation "
   ]
  },
  {
   "cell_type": "code",
   "execution_count": 3,
   "metadata": {
    "ExecuteTime": {
     "end_time": "2024-08-03T21:36:37.954456100Z",
     "start_time": "2024-08-03T21:36:37.930038Z"
    }
   },
   "outputs": [
    {
     "name": "stdout",
     "output_type": "stream",
     "text": [
      "AES Ciphertext: yd8Rb5p0vpNXlq/LYOxJvDU3jUHHiyMN+r96col6j3+HLks8N4eI\n",
      "AES Decrypted text: This is a test message.\n"
     ]
    }
   ],
   "source": [
    "from Crypto.Cipher import AES\n",
    "from Crypto.Random import get_random_bytes\n",
    "import base64\n",
    "def aes_encrypt(plaintext, key):\n",
    "    cipher = AES.new(key, AES.MODE_EAX)\n",
    "    nonce = cipher.nonce\n",
    "    ciphertext, tag = cipher.encrypt_and_digest(plaintext.encode('utf-8'))\n",
    "    return base64.b64encode(nonce + ciphertext).decode('utf-8')\n",
    "\n",
    "def aes_decrypt(ciphertext, key):\n",
    "    raw = base64.b64decode(ciphertext)\n",
    "    nonce = raw[:16]\n",
    "    ciphertext = raw[16:]\n",
    "    cipher = AES.new(key, AES.MODE_EAX, nonce=nonce)\n",
    "    plaintext = cipher.decrypt(ciphertext)\n",
    "    return plaintext.decode('utf-8')\n",
    "\n",
    "# Test AES functions\n",
    "key = get_random_bytes(16)\n",
    "plaintext = \"This is a test message.\"\n",
    "ciphertext = aes_encrypt(plaintext, key)\n",
    "print(\"AES Ciphertext:\", ciphertext)\n",
    "decrypted_text = aes_decrypt(ciphertext, key)\n",
    "print(\"AES Decrypted text:\", decrypted_text)\n"
   ]
  },
  {
   "cell_type": "code",
   "execution_count": 59,
   "metadata": {
    "ExecuteTime": {
     "end_time": "2024-08-03T21:36:43.123666200Z",
     "start_time": "2024-08-03T21:36:43.037129800Z"
    }
   },
   "outputs": [],
   "source": []
  },
  {
   "cell_type": "markdown",
   "metadata": {},
   "source": [
    "# NTRU Encryption Algorithm "
   ]
  },
  {
   "cell_type": "code",
   "execution_count": 59,
   "metadata": {
    "ExecuteTime": {
     "end_time": "2024-08-03T21:36:43.293362600Z",
     "start_time": "2024-08-03T21:36:43.265318300Z"
    }
   },
   "outputs": [],
   "source": []
  },
  {
   "cell_type": "code",
   "execution_count": 4,
   "metadata": {
    "ExecuteTime": {
     "end_time": "2024-08-03T21:36:44.289608500Z",
     "start_time": "2024-08-03T21:36:44.256992100Z"
    }
   },
   "outputs": [
    {
     "name": "stdout",
     "output_type": "stream",
     "text": [
      "pycryptodome installed correctly.\n"
     ]
    }
   ],
   "source": [
    "# Verify pycryptodome\n",
    "from Crypto.Cipher import AES\n",
    "print(\"pycryptodome installed correctly.\")\n"
   ]
  },
  {
   "cell_type": "code",
   "execution_count": 60,
   "metadata": {
    "ExecuteTime": {
     "end_time": "2024-08-03T21:36:46.128668Z",
     "start_time": "2024-08-03T21:36:46.103156400Z"
    }
   },
   "outputs": [],
   "source": []
  },
  {
   "cell_type": "code",
   "execution_count": 60,
   "metadata": {
    "ExecuteTime": {
     "end_time": "2024-08-03T21:36:46.470764200Z",
     "start_time": "2024-08-03T21:36:46.434762400Z"
    }
   },
   "outputs": [],
   "source": []
  },
  {
   "cell_type": "markdown",
   "metadata": {},
   "source": [
    "# Setting up the IBM Quantum Platform"
   ]
  },
  {
   "cell_type": "code",
   "execution_count": 5,
   "metadata": {
    "ExecuteTime": {
     "end_time": "2024-08-03T21:36:51.246696700Z",
     "start_time": "2024-08-03T21:36:47.214051700Z"
    }
   },
   "outputs": [],
   "source": [
    "# Setting up the IBM runtime envo\n",
    "from qiskit_ibm_runtime import QiskitRuntimeService\n",
    " \n",
    "service = QiskitRuntimeService(channel=\"ibm_quantum\", token=\"9b1db8ecdf455c71e9d97b2ba4c8e3cc6dbfcc1e2ffc3b92fd5c5c5777f92796798d6ef2bdc53aebc6da1fe7b205a6dc35114382f3172a9d167469d824539767\")\n",
    " "
   ]
  },
  {
   "cell_type": "code",
   "execution_count": 6,
   "metadata": {
    "ExecuteTime": {
     "end_time": "2024-08-03T21:36:54.997734300Z",
     "start_time": "2024-08-03T21:36:51.252025400Z"
    }
   },
   "outputs": [],
   "source": [
    "from qiskit_ibm_runtime import QiskitRuntimeService\n",
    " \n",
    "# Save an IBM Quantum account and set it as your default account.\n",
    "QiskitRuntimeService.save_account(\n",
    "    channel=\"ibm_quantum\",\n",
    "    token=\"9b1db8ecdf455c71e9d97b2ba4c8e3cc6dbfcc1e2ffc3b92fd5c5c5777f92796798d6ef2bdc53aebc6da1fe7b205a6dc35114382f3172a9d167469d824539767\",\n",
    "    set_as_default=True,\n",
    "    # Use `overwrite=True` if you're updating your token.\n",
    "    overwrite=True,\n",
    ")\n",
    " \n",
    "# Load saved credentials\n",
    "service = QiskitRuntimeService()"
   ]
  },
  {
   "cell_type": "code",
   "execution_count": 37,
   "metadata": {
    "ExecuteTime": {
     "end_time": "2024-08-03T20:35:01.067454500Z",
     "start_time": "2024-08-03T20:35:01.060875700Z"
    }
   },
   "outputs": [],
   "source": [
    "# # testing the setup  \n",
    "# from qiskit import QuantumCircuit\n",
    "# from qiskit_ibm_runtime import QiskitRuntimeService, SamplerV2 as Sampler\n",
    " \n",
    "# # Create empty circuit\n",
    "# example_circuit = QuantumCircuit(2)\n",
    "# example_circuit.measure_all()\n",
    " \n",
    "# # You'll need to specify the credentials when initializing QiskitRuntimeService, if they were not previously saved.\n",
    "# service = QiskitRuntimeService()\n",
    "# backend = service.least_busy(operational=True, simulator=False)\n",
    " \n",
    "# sampler = Sampler(backend)\n",
    "# job = sampler.run([example_circuit])\n",
    "# print(f\"job id: {job.job_id()}\")\n",
    "# result = job.result()\n",
    "# print(result)"
   ]
  },
  {
   "cell_type": "code",
   "execution_count": 38,
   "metadata": {
    "ExecuteTime": {
     "end_time": "2024-08-03T20:35:01.089099900Z",
     "start_time": "2024-08-03T20:35:01.066362900Z"
    }
   },
   "outputs": [],
   "source": [
    "# pip install qiskit-aer\n",
    "# !pip install qiskit-ibm-provider\n"
   ]
  },
  {
   "cell_type": "markdown",
   "metadata": {},
   "source": [
    "# To Simulate the AES on quantum resources "
   ]
  },
  {
   "cell_type": "code",
   "execution_count": 1,
   "metadata": {
    "ExecuteTime": {
     "end_time": "2024-08-03T20:35:01.142417900Z",
     "start_time": "2024-08-03T20:35:01.095269700Z"
    }
   },
   "outputs": [
    {
     "name": "stdout",
     "output_type": "stream",
     "text": [
      "{'0101110011': 1, '0001010010': 2, '1101111101': 2, '1111011001': 4, '0011011000': 1, '1110001110': 2, '0001000000': 1, '0100011101': 1, '1110010010': 1, '0100000111': 1, '0001111110': 2, '0011100011': 1, '0011001010': 1, '0111001111': 1, '0100101010': 1, '0110001100': 3, '1100011111': 1, '0101100001': 4, '1011111111': 1, '1110001010': 2, '0101001111': 2, '1111001011': 2, '0111011001': 1, '0010111111': 1, '0101110010': 1, '0001010011': 3, '1000101111': 2, '1100100011': 4, '0110110010': 1, '0010101111': 1, '1000111000': 3, '1101111110': 3, '1111011000': 3, '0110110000': 2, '1111001001': 1, '0111011011': 1, '1110101000': 3, '1001101000': 5, '1010000110': 1, '1100110101': 1, '1110110110': 1, '1000111101': 1, '0110100001': 1, '1111011101': 3, '1101111001': 2, '1001010110': 2, '1010001111': 1, '1000100100': 2, '1100101010': 2, '1011101010': 2, '1100001100': 1, '0010011010': 1, '0100100100': 1, '0001100111': 2, '1001111000': 2, '1101001110': 3, '1011001110': 2, '1101010010': 1, '1111100000': 2, '1011101110': 1, '1100101110': 1, '1001101110': 1, '0100111010': 1, '0101010111': 2, '1101100110': 1, '0110010101': 2, '1010100110': 2, '1110001100': 1, '1000011010': 1, '0000101000': 2, '1000000010': 2, '1101011000': 1, '0010101010': 2, '0101000101': 1, '1010111000': 2, '0011101100': 2, '1011001010': 3, '1101010110': 2, '1010110110': 1, '0111011010': 1, '0110110011': 1, '0011101101': 1, '0011000110': 3, '1011010011': 3, '1100001111': 1, '0101111110': 2, '0010110001': 1, '1001110101': 4, '1010001101': 4, '0010110110': 2, '0101111011': 2, '1100111100': 1, '1100000110': 2, '1011011100': 2, '0010010100': 1, '1001000011': 2, '1011001100': 1, '1101010100': 1, '1110101001': 2, '1001111111': 1, '1000101110': 1, '1011100000': 3, '0100001010': 2, '0100010010': 1, '0000100000': 1, '0100110011': 3, '0101011110': 2, '1100010100': 1, '0110000001': 3, '0101101100': 2, '1111101000': 4, '0110010010': 1, '1010100001': 3, '0110010011': 5, '1100011110': 2, '1011111110': 3, '0101100010': 2, '1000010101': 1, '1010100101': 1, '0110010110': 2, '1111110001': 2, '1000010001': 1, '0000100011': 1, '1001100001': 1, '0111001110': 2, '1110100001': 1, '1010011010': 1, '1010000010': 3, '1110000101': 1, '1111000010': 1, '1001000010': 2, '0100100111': 2, '1010000100': 1, '1101110011': 1, '1001100110': 1, '0111001011': 3, '1110100110': 1, '0000101010': 2, '1000011000': 3, '1111111000': 1, '0000110110': 3, '0000100101': 1, '1110001001': 1, '1110000111': 2, '0101010100': 1, '0000011100': 2, '0100111011': 2, '0111011111': 1, '1011100101': 2, '1100001110': 2, '1100110000': 5, '1110011110': 1, '1111000000': 3, '1001000000': 1, '0110111001': 1, '0010010101': 1, '1100000111': 1, '1011011011': 2, '1100111011': 1, '0100010110': 2, '0001110111': 1, '0100001110': 2, '0110000111': 1, '1011110010': 1, '0101101110': 1, '1000010111': 2, '1010101000': 1, '0001001000': 2, '0111010111': 2, '1011011010': 2, '1100000100': 1, '1101110000': 3, '0111111101': 1, '1111101100': 2, '1101110111': 2, '1101110110': 1, '1110111001': 1, '1000001000': 2, '0000111110': 1, '0000100010': 1, '1101101011': 2, '0110011010': 1, '1010101011': 1, '1000110000': 1, '1110111011': 3, '1001011011': 1, '0110101110': 4, '0111011100': 1, '1111001000': 1, '0110110001': 1, '1001001000': 1, '0011110001': 1, '1011010111': 2, '1100001011': 2, '1100110111': 4, '0011001000': 1, '0000011001': 1, '0100111000': 3, '1010111001': 2, '0101000100': 1, '1101011001': 4, '0001001110': 1, '0100010001': 2, '0100001011': 2, '0001110000': 2, '1101111011': 2, '0100100001': 1, '0110001101': 3, '1100011010': 2, '0101100110': 2, '1011111010': 3, '0000101111': 1, '1100000011': 2, '1011011111': 2, '1100111111': 1, '1111000110': 2, '1001000110': 2, '1100011001': 1, '0010000111': 1, '1011111001': 2, '1011110001': 1, '0101011100': 1, '0000010100': 2, '0100110101': 2, '1010100011': 2, '0100110010': 1, '0000010011': 1, '0101011101': 2, '0001010110': 1, '0010111100': 2, '0001011111': 2, '0010110011': 1, '1011101111': 1, '1111100011': 1, '1100101111': 1, '1010001011': 2, '0011011100': 3, '0000101110': 1, '0000110010': 3, '1000110100': 3, '1110111111': 3, '0111111100': 2, '0001101101': 2, '0001100101': 2, '0100100110': 2, '0111101101': 1, '1010011111': 1, '1111010110': 3, '1001010100': 4, '1111011111': 1, '1100001000': 3, '1101111010': 3, '0000100110': 1, '0010010111': 1, '1100000101': 2, '0111100110': 2, '0111010000': 3, '0010100100': 1, '1000010100': 2, '0000011010': 2, '0101010110': 1, '1001100101': 1, '1110100101': 3, '0011110010': 2, '1001110001': 1, '1010111011': 1, '1101000101': 1, '1011000101': 2, '1110010111': 1, '1111011100': 2, '0110100110': 3, '1001010001': 1, '0000011110': 1, '0101010010': 2, '0101001011': 2, '1011001000': 1, '1011101001': 1, '0000010101': 1, '1010011100': 3, '0101010011': 1, '0100111110': 4, '0000111100': 2, '0000111111': 1, '0001011001': 1, '1111001100': 2, '0111011000': 1, '1110001000': 2, '1010000111': 1, '0011111001': 2, '1100001001': 3, '0000000111': 1, '1101000000': 3, '1011000000': 1, '0100101001': 2, '0110000000': 1, '1100010101': 3, '1011110101': 1, '0010001001': 2, '0110000010': 1, '1100010111': 2, '1000011001': 1, '1111111001': 1, '0000110111': 2, '0010000100': 2, '1000000111': 1, '1111111101': 2, '0011001001': 1, '1100110010': 2, '0000111000': 1, '1111110110': 1, '1000010110': 3, '0111111011': 4, '0011000010': 1, '0010100101': 1, '1000011110': 1, '0011001100': 1, '0110001011': 2, '1011110011': 1, '0101101101': 1, '1010100111': 1, '1101100111': 3, '0110010100': 1, '1101000110': 1, '0000000001': 1, '1011000110': 2, '0111110110': 2, '0110100000': 1, '0001100011': 1, '0110101101': 1, '1111010001': 1, '1110111100': 1, '1010101111': 2, '0110011110': 4, '0101010001': 3, '0000011111': 2, '0011111111': 2, '1011110110': 2, '1100010110': 1, '0110000011': 3, '0101111111': 2, '0010110010': 3, '0011010110': 1, '0110101011': 1, '1111010111': 4, '1000110111': 2, '1101001111': 2, '0000001010': 1, '1101010001': 1, '1011001111': 1, '1000101101': 3, '1011100001': 2, '1111000101': 1, '0001111001': 2, '1001000100': 1, '1111000100': 2, '1010010110': 1, '1010100100': 1, '0110010111': 5, '1101100100': 1, '1001001010': 3, '0010011111': 1, '1100001101': 3, '1011010001': 1, '1100110001': 1, '1110010100': 1, '0001111100': 1, '0001001100': 1, '0100010111': 1, '1110011010': 3, '1011100100': 1, '1100100100': 3, '1000101010': 1, '1000011011': 1, '0110101001': 3, '1011000011': 1, '1101011101': 1, '0000000100': 1, '0111111010': 2, '0111001000': 1, '1001110011': 2, '1001110111': 1, '0011100000': 2, '1010111110': 1, '0000000101': 3, '1101011110': 1, '1011000010': 2, '1110100000': 2, '0111001101': 1, '1010011001': 3, '0101110110': 1, '0010111011': 2, '0001010111': 1, '0010001010': 2, '0110111111': 2, '1011011000': 1, '0100100011': 1, '0011010100': 1, '1110001011': 2, '0100011110': 2, '0001000001': 1, '0001111101': 1, '0100000110': 1, '1010111100': 1, '0000000011': 3, '0010111001': 1, '0111110010': 1, '0010001100': 1, '1011100010': 1, '0101010101': 2, '0000011011': 1, '0010000110': 2, '0110011100': 1, '0100101110': 3, '0010110101': 2, '0101111010': 2, '1000010000': 1, '1000001100': 2, '1111110000': 2, '0101111101': 2, '0001011110': 3, '0101011001': 3, '0011101110': 2, '0011000111': 1, '1110010110': 1, '0100000011': 2, '0011010001': 2, '1110000010': 1, '1000001010': 3, '1010011011': 1, '0111100101': 1, '1001100100': 1, '1110101010': 2, '0111000101': 1, '0101001100': 2, '1011001001': 1, '1001001101': 1, '0101100101': 1, '1011111011': 1, '1100011011': 1, '0010111000': 2, '1010110101': 1, '1011001011': 1, '0011110110': 2, '1010001000': 2, '0111110001': 1, '1110100111': 2, '1001100111': 2, '1100000000': 1, '1011011110': 1, '1110000001': 1, '0010001110': 2, '0110011001': 2, '1101010111': 3, '0110100100': 2, '0001101000': 1, '1100101100': 2, '1001001111': 2, '0010000000': 3, '1101101001': 3, '0100011001': 1, '1001111011': 2, '0110001001': 1, '0010000010': 1, '0101100100': 2, '0001100001': 1, '0010101100': 2, '0011011010': 1, '1110101100': 1, '0011110101': 3, '0011101000': 2, '1101010000': 1, '1101001101': 1, '0000001001': 1, '0101001101': 2, '1110111010': 1, '1000110011': 3, '1010001001': 1, '0100010101': 2, '0111100100': 1, '0111101110': 1, '0000110101': 3, '1000100101': 2, '1001110110': 2, '1001110000': 1, '1011110000': 1, '1111010010': 2, '0011110011': 2, '0001101110': 1, '0100001001': 1, '0111011101': 2, '1111111111': 1, '0010011100': 1, '1010010011': 2, '0111100010': 1, '1101101100': 1, '1010101100': 1, '0000000110': 1, '1010111111': 3, '0110111010': 1, '0101100011': 1, '1011111101': 2, '1101100010': 5, '0101110000': 2, '0111000110': 3, '1010001100': 2, '1010010000': 1, '0100010100': 2, '0001110101': 1, '1110011011': 1, '0010101101': 1, '0010111110': 1, '0101110001': 1, '1110001111': 2, '0110100101': 2, '1001101111': 2, '1010101010': 1, '0011111010': 1, '1000000000': 2, '1000011100': 1, '0000101001': 1, '1001000001': 1, '0110111000': 2, '0110100010': 2, '1001010101': 2, '1110010001': 3, '1001111101': 1, '1000010011': 1, '1110000011': 1, '1101000111': 1, '0100011100': 1, '0001000111': 1, '1111011011': 1, '0110100111': 1, '0001001001': 1, '0001000010': 1, '1001100011': 1, '1100101000': 2, '0001101001': 1, '0110110111': 2, '0111011110': 1, '0111110100': 2, '0010000101': 2, '1110001101': 1, '0011110100': 1, '0011110000': 1, '1110000100': 2, '1010101110': 1, '0000101101': 1, '0001000101': 1, '0101101001': 2, '0110110100': 1, '1000100010': 1, '1111110111': 1, '0000111001': 1, '1100010000': 1, '1001001011': 2, '0010000001': 1, '1011101100': 2, '0001000110': 1, '1000111001': 1, '0111110101': 2, '0110001111': 1, '1100011100': 2, '1111101111': 2, '0011011110': 1, '1100000010': 1, '1001111100': 1, '1100100101': 1, '1000101000': 2, '1101100011': 1, '0001011101': 1, '1011101101': 2, '0111001001': 1, '0100001111': 1, '1110011100': 1, '0011010101': 2, '1111010100': 1, '0110101010': 1, '0001101010': 1, '0110110110': 1, '0110111101': 2, '1111001101': 1, '0010100001': 1, '0000100001': 1, '0100100101': 1, '0011001011': 1, '0001010001': 1, '0101111000': 2, '1100101011': 1, '1000100111': 1, '1011100111': 1, '0010011011': 1, '1001000101': 2, '0011001101': 1, '0001010101': 1, '0011010000': 1, '1001111110': 1, '1000110110': 1, '1110111101': 1, '1100110110': 1, '0000101100': 1, '1100111010': 1, '1111110100': 1, '0100100010': 1, '1010100000': 1, '1101010011': 1, '1011001101': 1, '0010110111': 1, '0110001010': 1, '1110101101': 1, '0111000000': 2, '0010101001': 1, '0011100101': 1, '0001011010': 1, '0010110100': 2, '0011010010': 1, '1001111010': 1, '0000101011': 2, '1000000110': 1, '1110110100': 1, '0111100001': 1, '0010001011': 1, '0011100100': 1, '0011011001': 1, '1101001100': 1, '0110000100': 1, '0001100000': 1, '1110011111': 1, '0011111011': 1, '0010001111': 1, '1010011101': 1, '1011011101': 1, '1101110010': 1, '0010001101': 1}\n"
     ]
    },
    {
     "name": "stderr",
     "output_type": "stream",
     "text": [
      "C:\\Users\\muham\\AppData\\Local\\Temp\\ipykernel_9172\\2717735675.py:62: UserWarning: FigureCanvasAgg is non-interactive, and thus cannot be shown\n",
      "  plot_histogram(counts).show()\n"
     ]
    }
   ],
   "source": [
    "# Import specific modules from Qiskit\n",
    "from qiskit import QuantumCircuit, QuantumRegister, ClassicalRegister, transpile\n",
    "from qiskit_aer import AerSimulator\n",
    "from qiskit.visualization import plot_histogram\n",
    "\n",
    "# Initialize quantum circuit\n",
    "num_qubits = 10  # Have Reduced number of qubits to fit within the limit\n",
    "qc = QuantumCircuit(num_qubits * 2)  # Data and key qubits\n",
    "\n",
    "# Example implementation of AES components (simplified for illustration)\n",
    "\n",
    "# Implement SubBytes (S-box) - simplified example\n",
    "def sub_bytes(qc, qubits):\n",
    "    for q in qubits:\n",
    "        qc.h(q)  # Example of applying Hadamard gate (not a real S-box implementation)\n",
    "\n",
    "# Implement ShiftRows\n",
    "def shift_rows(qc, qubits):\n",
    "    for i in range(len(qubits)):\n",
    "        qc.swap(qubits[i], qubits[(i + 2) % len(qubits)])  # Example swap for row shifting\n",
    "\n",
    "# Implement MixColumns\n",
    "def mix_columns(qc, qubits):\n",
    "    for i in range(len(qubits) - 1):\n",
    "        qc.cx(qubits[i], qubits[i + 1])  # Example CNOT chain\n",
    "\n",
    "# AddRoundKey - XOR operation\n",
    "def add_round_key(qc, qubits, key_qubits):\n",
    "    for i in range(len(qubits)):\n",
    "        if qubits[i] != key_qubits[i]:  # Ensure different qubits for control and target\n",
    "            qc.cx(qubits[i], key_qubits[i])  # Example XOR with key\n",
    "\n",
    "# Initialize key qubits separately\n",
    "key_register = QuantumRegister(num_qubits, 'key')\n",
    "qc.add_register(key_register)\n",
    "\n",
    "# Initialize classical register for measurement\n",
    "cr = ClassicalRegister(num_qubits)\n",
    "qc.add_register(cr)\n",
    "\n",
    "# Example AES round\n",
    "data_qubits = range(num_qubits)\n",
    "key_qubits = range(num_qubits, num_qubits * 2)  # key qubits are after data qubits\n",
    "\n",
    "sub_bytes(qc, data_qubits)\n",
    "shift_rows(qc, data_qubits)\n",
    "mix_columns(qc, data_qubits)\n",
    "add_round_key(qc, data_qubits, key_qubits)\n",
    "\n",
    "# Measure the data qubits\n",
    "qc.measure(data_qubits, range(num_qubits))\n",
    "\n",
    "# Visualize the circuit\n",
    "qc.draw('mpl')\n",
    "\n",
    "# Execute the circuit on the simulator\n",
    "simulator = AerSimulator()\n",
    "compiled_circuit = transpile(qc, simulator)\n",
    "result = simulator.run(compiled_circuit).result()\n",
    "counts = result.get_counts()\n",
    "print(counts)\n",
    "plot_histogram(counts).show(\"mlp\")\n"
   ]
  },
  {
   "cell_type": "code",
   "execution_count": null,
   "metadata": {},
   "outputs": [],
   "source": []
  },
  {
   "cell_type": "markdown",
   "metadata": {},
   "source": [
    "# Some what Full AES "
   ]
  },
  {
   "cell_type": "code",
   "execution_count": 3,
   "metadata": {
    "ExecuteTime": {
     "end_time": "2024-08-03T20:35:01.161851500Z",
     "start_time": "2024-08-03T20:35:01.145440500Z"
    }
   },
   "outputs": [
    {
     "name": "stdout",
     "output_type": "stream",
     "text": [
      "{'10111011': 67, '00001011': 66, '10101011': 66, '00001010': 71, '10110001': 57, '10100000': 56, '00010000': 66, '10101010': 61, '00000001': 58, '00000000': 72, '00010001': 60, '10100001': 60, '00011011': 78, '10111010': 64, '00011010': 59, '10110000': 63}\n"
     ]
    },
    {
     "name": "stderr",
     "output_type": "stream",
     "text": [
      "C:\\Users\\muham\\AppData\\Local\\Temp\\ipykernel_9172\\2478426878.py:86: UserWarning: FigureCanvasAgg is non-interactive, and thus cannot be shown\n",
      "  plot_histogram(counts).show()\n"
     ]
    }
   ],
   "source": [
    "from qiskit import QuantumCircuit, QuantumRegister, ClassicalRegister, transpile\n",
    "from qiskit_aer import AerSimulator\n",
    "from qiskit.visualization import plot_histogram\n",
    "\n",
    "# Initialize quantum circuit\n",
    "num_qubits = 8  # Reduced number of qubits to fit within the limit\n",
    "qc = QuantumCircuit(num_qubits * 2)  # Data and key qubits\n",
    "\n",
    "# Implement SubBytes (S-box) - simplified example\n",
    "def sub_bytes(qc, qubits):\n",
    "    for q in qubits:\n",
    "        qc.h(q)  # Example of applying Hadamard gate (not a real S-box implementation)\n",
    "\n",
    "# Implement ShiftRows\n",
    "def shift_rows(qc, qubits):\n",
    "    # This function is a placeholder and not a full implementation of AES ShiftRows\n",
    "    for i in range(1, len(qubits), 4):\n",
    "        qc.swap(qubits[i], qubits[(i + 1) % len(qubits)])  # Simplified shift\n",
    "\n",
    "# Implement MixColumns - simplified example\n",
    "def mix_columns(qc, qubits):\n",
    "    # This function is a placeholder and not a full implementation of AES MixColumns\n",
    "    for i in range(0, len(qubits), 4):\n",
    "        qc.cx(qubits[i], qubits[i + 1])\n",
    "        qc.cx(qubits[i + 1], qubits[i + 2])\n",
    "        qc.cx(qubits[i + 2], qubits[i + 3])\n",
    "        qc.cx(qubits[i + 3], qubits[i])\n",
    "\n",
    "# AddRoundKey - XOR operation\n",
    "def add_round_key(qc, qubits, key_qubits):\n",
    "    for i in range(len(qubits)):\n",
    "        qc.cx(qubits[i], key_qubits[i])\n",
    "\n",
    "# Key schedule - simplified example\n",
    "def key_schedule(key):\n",
    "    # This function should generate round keys from the original key\n",
    "    # Here, we'll just return the same key for simplicity\n",
    "    return key\n",
    "\n",
    "# Function to run the AES encryption process\n",
    "def aes_encryption(qc, data_qubits, key_qubits):\n",
    "    round_keys = key_schedule(key_qubits)\n",
    "\n",
    "    # Initial AddRoundKey step\n",
    "    add_round_key(qc, data_qubits, key_qubits)\n",
    "\n",
    "    # Main rounds\n",
    "    for _ in range(3):  # Adjust number of rounds as needed\n",
    "        sub_bytes(qc, data_qubits)\n",
    "        shift_rows(qc, data_qubits)\n",
    "        mix_columns(qc, data_qubits)\n",
    "        add_round_key(qc, data_qubits, key_qubits)\n",
    "\n",
    "    # Final round (without MixColumns)\n",
    "    sub_bytes(qc, data_qubits)\n",
    "    shift_rows(qc, data_qubits)\n",
    "    add_round_key(qc, data_qubits, key_qubits)\n",
    "\n",
    "# Initialize key qubits separately\n",
    "key_register = QuantumRegister(num_qubits, 'key')\n",
    "qc.add_register(key_register)\n",
    "\n",
    "# Initialize classical register for measurement\n",
    "cr = ClassicalRegister(num_qubits)\n",
    "qc.add_register(cr)\n",
    "\n",
    "# Example AES round\n",
    "data_qubits = range(num_qubits)\n",
    "key_qubits = range(num_qubits, num_qubits * 2)  # key qubits are after data qubits\n",
    "\n",
    "# Run AES encryption\n",
    "aes_encryption(qc, data_qubits, key_qubits)\n",
    "\n",
    "# Measure the data qubits\n",
    "qc.measure(data_qubits, range(num_qubits))\n",
    "\n",
    "# Visualize the circuit\n",
    "qc.draw('mpl')\n",
    "\n",
    "# Execute the circuit on the simulator\n",
    "simulator = AerSimulator()\n",
    "compiled_circuit = transpile(qc, simulator)\n",
    "result = simulator.run(compiled_circuit).result()\n",
    "counts = result.get_counts()\n",
    "print(counts)\n",
    "plot_histogram(counts).show()\n"
   ]
  },
  {
   "cell_type": "code",
   "execution_count": 4,
   "metadata": {
    "ExecuteTime": {
     "start_time": "2024-08-03T20:35:01.148524100Z"
    }
   },
   "outputs": [
    {
     "name": "stdout",
     "output_type": "stream",
     "text": [
      "{'1111110010': 1, '1000010010': 1, '0111101110': 3, '0010101011': 2, '0101000110': 1, '1101001100': 2, '0000001101': 3, '1101010100': 1, '1011001100': 1, '0101001001': 2, '0110110000': 2, '1001001001': 1, '1101111110': 2, '1111011000': 1, '0010101111': 1, '0101000010': 1, '1000010110': 2, '1000001110': 1, '0000111000': 2, '1100111001': 3, '0000110000': 3, '0110111110': 2, '0100010010': 1, '0100001010': 2, '1110011101': 2, '1001011110': 1, '0110101011': 2, '1111010111': 2, '0010010001': 4, '1100000011': 2, '1100111111': 2, '1101010000': 1, '1010110000': 2, '1110010100': 1, '0001111100': 2, '0001000110': 1, '0100011011': 1, '0011011111': 5, '0111001001': 3, '1001110010': 1, '1010010000': 2, '1011101101': 2, '1111100001': 1, '0111001101': 2, '1110100000': 1, '1001100000': 1, '0010111010': 3, '0001010100': 3, '1001010100': 1, '1111011111': 1, '1101000110': 1, '1010111010': 3, '0000000001': 4, '1101011010': 4, '0010101000': 2, '0100011100': 1, '0100000000': 1, '0001111011': 1, '1110010101': 2, '1111100111': 2, '1100101011': 2, '0001110010': 1, '1110011110': 1, '0011000110': 1, '0011101101': 1, '0111010001': 2, '0110111100': 1, '0101100110': 3, '0110010111': 1, '1101100100': 1, '1010100100': 3, '1100111101': 2, '0010010011': 1, '1011011101': 2, '1111000100': 1, '1001100111': 3, '1101100000': 2, '0110010011': 2, '0001010001': 2, '0101110000': 3, '0011100001': 1, '0011001100': 1, '0010110000': 2, '0001011110': 1, '0100011000': 2, '1110001011': 1, '0010101101': 2, '1000000111': 1, '1111111101': 1, '1000011101': 2, '0010001011': 1, '0111010000': 1, '1101110111': 2, '1001011000': 1, '0101111111': 3, '0010110010': 2, '1110110000': 1, '1000111011': 2, '1001010000': 1, '1110000011': 1, '0001110101': 3, '0110111001': 1, '1001000000': 2, '0101110011': 2, '0101101010': 1, '0111000001': 1, '1110101110': 4, '0000101011': 1, '1101011011': 1, '1011000101': 1, '1011000100': 2, '1101011100': 1, '0101011000': 1, '0111011110': 2, '0110110111': 4, '1010001000': 2, '0011110110': 1, '0000111001': 4, '1111110111': 2, '1000010111': 2, '0111010011': 1, '0110111010': 2, '0100011110': 1, '0100000110': 1, '1110010011': 2, '0001111101': 1, '0111101101': 2, '1111001011': 2, '1001001011': 1, '0011010100': 1, '1100000101': 1, '0110100010': 1, '1001010101': 2, '0011101001': 2, '0111101011': 1, '0001101010': 2, '1101111011': 3, '1010011010': 2, '1010000010': 1, '1001111111': 2, '1100001010': 1, '1011101111': 2, '1111100011': 1, '1110001001': 1, '0011011101': 2, '1111001100': 2, '0111011000': 1, '1001001100': 1, '1001001111': 1, '1001010010': 1, '0111111000': 1, '0001011111': 1, '0010110011': 1, '0001110111': 1, '0100001110': 2, '0000011111': 3, '0100010001': 1, '0100001011': 4, '0111000101': 4, '1110101010': 2, '1001101010': 2, '1110000110': 4, '1010101000': 3, '1101101000': 3, '1110000111': 2, '0100000100': 3, '1110010001': 2, '0001111111': 1, '0001000011': 1, '1100001111': 2, '1011101001': 3, '0010000010': 1, '0110001001': 1, '1010011001': 1, '0000011100': 1, '0101010100': 1, '0100111011': 1, '0011010101': 2, '1111101001': 1, '1000101001': 2, '1111111001': 2, '0011100011': 2, '0011101011': 2, '0011000000': 2, '0000100110': 1, '0111011010': 2, '0110110011': 1, '0110010000': 2, '1101100011': 2, '0011010000': 2, '1100011001': 2, '0010000111': 1, '1000111110': 1, '1110110111': 1, '1111011110': 2, '0110100000': 2, '1001010111': 1, '0100111101': 2, '0000011110': 3, '0110111111': 1, '0011111000': 1, '0001010000': 2, '0010111110': 1, '0101110001': 1, '1100000000': 3, '1011011110': 1, '0010010010': 1, '1001011111': 1, '1111010100': 2, '0110101010': 2, '1000110100': 1, '1110111111': 1, '0010011111': 2, '1100001101': 1, '0111100100': 1, '1000100101': 1, '0111100111': 2, '1101111100': 3, '1100110101': 1, '1011010101': 2, '1111001110': 1, '1001001110': 4, '0010001010': 2, '1110011100': 1, '0100001111': 1, '0001001010': 1, '1110100101': 2, '0111001010': 1, '1010001111': 1, '0110000111': 1, '0101101110': 2, '1110101011': 1, '0111000110': 1, '1011110100': 1, '0101101100': 1, '1100010100': 1, '0111110011': 1, '0010111000': 3, '0011011000': 1, '1110001110': 2, '0110110001': 1, '1111001000': 1, '1110011010': 1, '0100010111': 3, '0010100011': 1, '1111111000': 2, '0000110110': 1, '1000000001': 2, '0111100101': 1, '1100000010': 1, '0010010000': 2, '0000111111': 1, '0011111010': 1, '0001100101': 1, '1100010101': 1, '0110000000': 1, '0000101110': 1, '0000110010': 1, '0011010110': 1, '0000110011': 1, '0110100110': 1, '1111011100': 2, '1001010001': 1, '1000111100': 4, '0111000111': 3, '1001101100': 3, '1000001000': 4, '0101110010': 1, '1100100100': 1, '1011100100': 2, '0100111001': 2, '0000011000': 5, '1111001101': 5, '0000011001': 2, '1101101011': 1, '1010101011': 1, '1110110011': 1, '1000111010': 1, '0110100100': 1, '1001010011': 2, '1100011101': 2, '1011111101': 1, '0110010010': 2, '1101100001': 2, '1010100001': 2, '1001110100': 2, '0101011111': 2, '1011100101': 1, '1100100101': 2, '1111010010': 2, '1001011100': 1, '1111010001': 1, '1000110001': 2, '1110111100': 3, '0001100100': 3, '1101011001': 1, '0101000100': 1, '1010111001': 3, '1100110010': 1, '1011010010': 2, '0000111101': 3, '1000001001': 1, '0000100011': 2, '0111000011': 2, '1001111000': 2, '0011110101': 2, '0010100100': 1, '1010100110': 2, '0101110110': 1, '0010111011': 1, '0001010111': 1, '0111111010': 1, '0010110101': 1, '1010110010': 2, '0000001011': 2, '1101010010': 4, '1011001110': 1, '0011101010': 2, '0101100010': 1, '1011111110': 1, '1100011110': 1, '1001000111': 2, '1000110101': 1, '0011001101': 2, '0011100110': 4, '1100100011': 1, '1000101111': 2, '0011110011': 1, '0011110100': 3, '1000010101': 2, '1111110101': 1, '1000001111': 2, '1111111100': 1, '0100100010': 1, '1100011000': 2, '0010000110': 3, '1011111000': 2, '1011000011': 1, '1010111101': 1, '0000000100': 1, '1010110111': 1, '1010111000': 2, '1101011000': 1, '0010101010': 2, '1001111010': 3, '1001100110': 1, '0111001011': 1, '0100110010': 1, '0100110101': 2, '0111011111': 2, '1000010011': 1, '1111110011': 4, '1101010101': 1, '0101001000': 3, '1011001011': 1, '1010110101': 1, '0000001110': 2, '0011000001': 2, '0011101100': 2, '0110101110': 3, '1111010000': 1, '1110111011': 1, '1000110000': 1, '1101101010': 3, '0110011011': 2, '1010101010': 1, '1101101001': 1, '1010101001': 1, '0101110100': 2, '1011101100': 1, '1111100110': 2, '1000100110': 2, '1100101100': 2, '0010110110': 2, '0000001000': 1, '1001011010': 1, '1111010011': 3, '1110111010': 4, '1101001010': 2, '0000001111': 2, '1011001010': 1, '1101010110': 1, '0011100111': 2, '0011001110': 2, '1010010001': 2, '1111100000': 1, '1011101110': 1, '0100100101': 2, '1110001101': 2, '0011011001': 3, '0101101111': 1, '1011110001': 1, '1100010001': 1, '0110000100': 1, '0101000011': 1, '1101110011': 1, '1111110000': 1, '1000010000': 3, '0000010110': 1, '1111100010': 2, '1110010010': 3, '0100000111': 2, '0001111110': 3, '0001000000': 1, '1100001110': 1, '0110011000': 3, '1000111101': 1, '0110100001': 1, '0110011111': 1, '1101101110': 1, '0011101000': 1, '0111101100': 1, '0000000111': 1, '1101000000': 1, '0010000011': 1, '0110001000': 1, '0101001010': 2, '0010100101': 2, '1010100010': 1, '0110010001': 1, '1101100010': 1, '0010000100': 1, '0000000101': 3, '1010111110': 1, '0000010101': 2, '1110001000': 1, '0011110010': 2, '1101101100': 2, '1100010011': 1, '0101101101': 1, '0001000100': 2, '1110010110': 2, '0001111010': 1, '0100000011': 2, '1111101101': 1, '1011100001': 1, '1000101101': 1, '0110011101': 2, '1110000010': 2, '1000101000': 1, '1011001101': 2, '0010001110': 2, '1011101010': 2, '1111100100': 2, '0011111100': 2, '0011011010': 1, '0011100101': 1, '1101100111': 1, '0110010100': 1, '0101100001': 2, '0011001001': 3, '1110001100': 2, '0111111101': 1, '0111101111': 3, '1001000110': 1, '1010010011': 1, '1110000000': 1, '0111010110': 1, '0110111101': 1, '0110101001': 1, '1101110001': 1, '0101001011': 4, '1011001000': 1, '1101001000': 1, '1001111011': 4, '0100110110': 1, '1110000101': 1, '1110101111': 1, '0111000010': 2, '1100100110': 2, '0001010110': 2, '1011011100': 1, '1100000110': 1, '0011010011': 1, '0011000010': 1, '0100101000': 3, '0110101100': 1, '1111010110': 2, '1000110110': 1, '0111100010': 2, '1000000110': 1, '1000011110': 2, '1101111101': 1, '1111011001': 2, '1100100000': 1, '1000101110': 1, '1011100000': 2, '1111101110': 1, '1110100011': 1, '1001110101': 1, '0110101000': 2, '1101110000': 1, '0001000010': 1, '0100011111': 1, '0111110101': 1, '1001110110': 3, '1110000100': 1, '0101100101': 1, '1011111011': 2, '0101001101': 2, '0101000001': 2, '1001000010': 2, '1111000010': 1, '0101100100': 3, '1011111100': 1, '1100011100': 1, '0110001111': 1, '0011110001': 1, '0011000101': 1, '0010011000': 1, '1010011000': 1, '1110100100': 1, '0000111100': 1, '0100100100': 2, '0101111110': 2, '0011001000': 2, '0110010110': 1, '1010100101': 2, '0111001111': 2, '0100101010': 2, '1000010001': 3, '1010111111': 1, '1101000001': 1, '1101011111': 1, '0111110001': 1, '1000101011': 1, '0010101001': 1, '0000000000': 2, '0001011010': 3, '1110001010': 1, '1010101101': 1, '0001011011': 1, '1110101101': 1, '1101001111': 1, '1010110001': 1, '0000001010': 1, '0000101000': 1, '1110011000': 1, '0001101110': 1, '0010001111': 1, '0010010110': 1, '1100000100': 1, '0011110000': 2, '0011111001': 2, '1010000111': 1, '0100111111': 1, '0101111001': 1, '0001011000': 1, '0010100010': 1, '1000010100': 1, '1010000100': 1, '0111101010': 2, '1011011000': 1, '0001001000': 1, '1111111111': 1, '1000000101': 1, '0001100011': 2, '0111110100': 1, '0010000001': 1, '0111111011': 1, '0100111010': 1, '1011110111': 2, '0111111110': 2, '0100110111': 1, '0101011101': 2, '0001100110': 1, '0000111011': 2, '0001100010': 2, '0110110101': 2, '0011011110': 1, '1011010110': 1, '1111100101': 1, '0111010101': 1, '1001101111': 3, '0110001110': 2, '1100111010': 1, '1011100111': 1, '1111101011': 1, '1000111111': 1, '1110110100': 1, '0110111011': 2, '0111100011': 2, '0011000111': 1, '0110001011': 1, '0101101001': 1, '1000011000': 1, '0011111110': 4, '0000001100': 1, '0111100001': 1, '1000000100': 1, '0001000101': 1, '0100011010': 2, '0000100000': 1, '1010101110': 1, '0111110111': 1, '0111001110': 1, '0000101001': 1, '0111001100': 1, '0100101101': 1, '0000100010': 1, '1000111000': 2, '1011000010': 1, '1100110011': 1, '1010111100': 1, '0111110010': 1, '0001100111': 1, '0000011101': 1, '1010000011': 1, '0100010110': 1, '1100111110': 1, '0100111000': 2, '0110000011': 1, '1011100110': 1, '1111101100': 1, '0100101100': 1, '0101111100': 1, '0110000010': 1, '0100011001': 1, '0000100111': 3, '0011001010': 1, '0100100001': 1, '1010000000': 1, '1111110100': 1, '1001111110': 1, '0010000101': 1, '0111010010': 1, '1100101010': 2, '0111110000': 1, '1000011111': 1, '1110111110': 1, '1000110111': 1, '1111000110': 1, '1101000101': 1, '0101101000': 1, '0000100101': 2, '1100110001': 1, '1111000101': 1, '0001010101': 1, '1111010101': 1, '1011011011': 1, '0100110011': 1, '0000011011': 1, '1000100001': 2, '1001100010': 1, '1101010001': 1, '1010101100': 1, '0100101001': 1, '0000100100': 1, '1000110010': 1, '1001000100': 1, '0100110100': 1, '1011001001': 1, '1011110000': 1}\n"
     ]
    },
    {
     "name": "stderr",
     "output_type": "stream",
     "text": [
      "C:\\Users\\muham\\AppData\\Local\\Temp\\ipykernel_9172\\580388848.py:59: UserWarning: FigureCanvasAgg is non-interactive, and thus cannot be shown\n",
      "  plot_histogram(counts).show()\n"
     ]
    }
   ],
   "source": [
    "from qiskit import QuantumCircuit, QuantumRegister, ClassicalRegister, transpile\n",
    "from qiskit_aer import AerSimulator\n",
    "from qiskit.visualization import plot_histogram\n",
    "\n",
    "# Initialize quantum circuit\n",
    "num_qubits = 10  # Reduced number of qubits to fit within the limit\n",
    "qc = QuantumCircuit(num_qubits * 2)  # Data and key qubits\n",
    "\n",
    "# Implement SubBytes (S-box) - simplified example\n",
    "def sub_bytes(qc, qubits):\n",
    "    for q in qubits:\n",
    "        qc.h(q)  # Example of applying Hadamard gate (not a real S-box implementation)\n",
    "\n",
    "# Implement ShiftRows\n",
    "def shift_rows(qc, qubits):\n",
    "    for i in range(len(qubits)):\n",
    "        qc.swap(qubits[i], qubits[(i + 2) % len(qubits)])  # Example swap for row shifting\n",
    "\n",
    "# Implement MixColumns\n",
    "def mix_columns(qc, qubits):\n",
    "    for i in range(len(qubits) - 1):\n",
    "        qc.cx(qubits[i], qubits[i + 1])  # Example CNOT chain\n",
    "\n",
    "# AddRoundKey - XOR operation\n",
    "def add_round_key(qc, qubits, key_qubits):\n",
    "    for i in range(len(qubits)):\n",
    "        if qubits[i] != key_qubits[i]:  # Ensure different qubits for control and target\n",
    "            qc.cx(qubits[i], key_qubits[i])  # Example XOR with key\n",
    "\n",
    "# Initialize key qubits separately\n",
    "key_register = QuantumRegister(num_qubits, 'key')\n",
    "qc.add_register(key_register)\n",
    "\n",
    "# Initialize classical register for measurement\n",
    "cr = ClassicalRegister(num_qubits)\n",
    "qc.add_register(cr)\n",
    "\n",
    "# Example AES round\n",
    "data_qubits = range(num_qubits)\n",
    "key_qubits = range(num_qubits, num_qubits * 2)  # key qubits are after data qubits\n",
    "\n",
    "sub_bytes(qc, data_qubits)\n",
    "shift_rows(qc, data_qubits)\n",
    "mix_columns(qc, data_qubits)\n",
    "add_round_key(qc, data_qubits, key_qubits)\n",
    "\n",
    "# Measure the data qubits\n",
    "qc.measure(data_qubits, range(num_qubits))\n",
    "\n",
    "# Visualize the circuit\n",
    "qc.draw('mpl')\n",
    "\n",
    "# Execute the circuit on the simulator\n",
    "simulator = AerSimulator()\n",
    "compiled_circuit = transpile(qc, simulator)\n",
    "result = simulator.run(compiled_circuit).result()\n",
    "counts = result.get_counts()\n",
    "print(counts)\n",
    "plot_histogram(counts).show()\n"
   ]
  },
  {
   "cell_type": "code",
   "execution_count": null,
   "metadata": {
    "ExecuteTime": {
     "start_time": "2024-08-03T20:35:01.152625600Z"
    }
   },
   "outputs": [],
   "source": []
  },
  {
   "cell_type": "code",
   "execution_count": null,
   "metadata": {
    "ExecuteTime": {
     "start_time": "2024-08-03T20:35:01.155623600Z"
    }
   },
   "outputs": [],
   "source": []
  },
  {
   "cell_type": "code",
   "execution_count": 6,
   "metadata": {
    "ExecuteTime": {
     "start_time": "2024-08-03T20:35:01.157623600Z"
    }
   },
   "outputs": [
    {
     "name": "stdout",
     "output_type": "stream",
     "text": [
      "Simulation result: {'1100': 250, '0011': 299, '0000': 249, '1111': 226}\n"
     ]
    },
    {
     "name": "stderr",
     "output_type": "stream",
     "text": [
      "C:\\Users\\muham\\AppData\\Local\\Temp\\ipykernel_9172\\2650090479.py:4: DeprecationWarning: The package qiskit_ibm_provider is being deprecated. Please see https://docs.quantum.ibm.com/api/migration-guides/qiskit-runtime to get instructions on how to migrate to qiskit-ibm-runtime (https://github.com/Qiskit/qiskit-ibm-runtime).\n",
      "  from qiskit_ibm_provider import IBMProvider\n",
      "C:\\Users\\muham\\AppData\\Local\\Temp\\ipykernel_9172\\2650090479.py:54: UserWarning: FigureCanvasAgg is non-interactive, and thus cannot be shown\n",
      "  plot_histogram(counts).show()\n"
     ]
    }
   ],
   "source": [
    "from qiskit import QuantumCircuit, transpile, assemble\n",
    "from qiskit.visualization import plot_histogram\n",
    "from qiskit_aer import AerSimulator\n",
    "from qiskit_ibm_provider import IBMProvider\n",
    "\n",
    "from qiskit_ibm_provider import least_busy\n",
    "\n",
    "# Function to initialize the quantum state with the plaintext\n",
    "def initialize_state(qc, plaintext):\n",
    "    for i, bit in enumerate(plaintext):\n",
    "        if bit == '1':\n",
    "            qc.x(i)\n",
    "\n",
    "# Simplified AES round function for demonstration\n",
    "def aes_round(qc, key):\n",
    "    for i in range(len(key)):\n",
    "        if key[i] == '1':\n",
    "            qc.cx(i, (i + 1) % len(key))  # Simplified substitution step\n",
    "            qc.h(i)                      # Simplified permutation step\n",
    "\n",
    "# Function to run the AES encryption process\n",
    "def aes_encryption(plaintext, key):\n",
    "    n = len(plaintext)\n",
    "    qc = QuantumCircuit(n, n)\n",
    "    \n",
    "    # Initialize the quantum state\n",
    "    initialize_state(qc, plaintext)\n",
    "    \n",
    "    # Apply the AES round (repeated for simplicity)\n",
    "    for _ in range(3):  # Adjust the number of rounds as needed\n",
    "        aes_round(qc, key)\n",
    "    \n",
    "    # Measure the qubits\n",
    "    qc.measure(range(n), range(n))\n",
    "    \n",
    "    return qc\n",
    "\n",
    "# Define plaintext and key (binary strings for simplicity)\n",
    "plaintext = '1101'\n",
    "key = '1010'\n",
    "\n",
    "# Create the quantum circuit\n",
    "qc = aes_encryption(plaintext, key)\n",
    "\n",
    "# Simulate the circuit\n",
    "simulator = AerSimulator()\n",
    "compiled_circuit = transpile(qc, simulator)\n",
    "qobj = assemble(compiled_circuit)\n",
    "result = simulator.run(compiled_circuit).result()\n",
    "counts = result.get_counts()\n",
    "\n",
    "# Output the simulation result\n",
    "print(\"Simulation result:\", counts)\n",
    "plot_histogram(counts).show()"
   ]
  },
  {
   "cell_type": "code",
   "execution_count": 7,
   "metadata": {
    "ExecuteTime": {
     "start_time": "2024-08-03T20:35:01.159708700Z"
    }
   },
   "outputs": [],
   "source": [
    "# Running on IBM Quantum hardware\n",
    "def run_on_ibm_hardware(qc):\n",
    "    # Load your IBM Quantum account\n",
    "    IBMProvider.save_account('YOUR_IBM_QUANTUM_API_KEY')\n",
    "    provider = IBMProvider()\n",
    "    \n",
    "    # Get the least busy backend\n",
    "    backend = least_busy(provider.backends(filters=lambda b: b.configuration().n_qubits >= 5 and not b.configuration().simulator and b.status().operational==True))\n",
    "    print(\"Running on backend:\", backend)\n",
    "    \n",
    "    # Transpile the circuit for the backend\n",
    "    compiled_circuit = transpile(qc, backend)\n",
    "    \n",
    "    # Execute the circuit\n",
    "    job = backend.run(compiled_circuit)\n",
    "    result = job.result()\n",
    "    counts = result.get_counts()\n",
    "    \n",
    "    # Output the hardware execution result\n",
    "    print(\"Hardware execution result:\", counts)\n",
    "    plot_histogram(counts).show()\n",
    "\n",
    "# Uncomment the following line to run on IBM Quantum hardware but intergrate the api key to the function first  \n",
    "# run_on_ibm_hardware(qc)"
   ]
  },
  {
   "cell_type": "code",
   "execution_count": 40,
   "metadata": {
    "ExecuteTime": {
     "end_time": "2024-08-03T20:35:01.906906700Z",
     "start_time": "2024-08-03T20:35:01.870567900Z"
    }
   },
   "outputs": [
    {
     "ename": "ModuleNotFoundError",
     "evalue": "No module named 'qiskit_aer'",
     "output_type": "error",
     "traceback": [
      "\u001b[1;31m---------------------------------------------------------------------------\u001b[0m",
      "\u001b[1;31mModuleNotFoundError\u001b[0m                       Traceback (most recent call last)",
      "Cell \u001b[1;32mIn[40], line 3\u001b[0m\n\u001b[0;32m      1\u001b[0m \u001b[38;5;28;01mfrom\u001b[39;00m \u001b[38;5;21;01mqiskit\u001b[39;00m \u001b[38;5;28;01mimport\u001b[39;00m QuantumCircuit, transpile, assemble\n\u001b[0;32m      2\u001b[0m \u001b[38;5;28;01mfrom\u001b[39;00m \u001b[38;5;21;01mqiskit\u001b[39;00m\u001b[38;5;21;01m.\u001b[39;00m\u001b[38;5;21;01mvisualization\u001b[39;00m \u001b[38;5;28;01mimport\u001b[39;00m plot_histogram\n\u001b[1;32m----> 3\u001b[0m \u001b[38;5;28;01mfrom\u001b[39;00m \u001b[38;5;21;01mqiskit_aer\u001b[39;00m \u001b[38;5;28;01mimport\u001b[39;00m AerSimulator\n\u001b[0;32m      4\u001b[0m \u001b[38;5;28;01mfrom\u001b[39;00m \u001b[38;5;21;01mqiskit_ibm_provider\u001b[39;00m \u001b[38;5;28;01mimport\u001b[39;00m IBMProvider\n\u001b[0;32m      5\u001b[0m \u001b[38;5;28;01mfrom\u001b[39;00m \u001b[38;5;21;01mqiskit_ibm_provider\u001b[39;00m \u001b[38;5;28;01mimport\u001b[39;00m least_busy\n",
      "\u001b[1;31mModuleNotFoundError\u001b[0m: No module named 'qiskit_aer'"
     ]
    }
   ],
   "source": [
    "from qiskit import QuantumCircuit, transpile, assemble\n",
    "from qiskit.visualization import plot_histogram\n",
    "from qiskit_aer import AerSimulator\n",
    "from qiskit_ibm_provider import IBMProvider\n",
    "from qiskit_ibm_provider import least_busy\n",
    "\n",
    "# Function to initialize the quantum state with the plaintext\n",
    "def initialize_state(qc, plaintext):\n",
    "    for i, bit in enumerate(plaintext):\n",
    "        if bit == '1':\n",
    "            qc.x(i)\n",
    "\n",
    "# Placeholder for SubBytes using quantum S-box\n",
    "def sub_bytes(qc, qubits):\n",
    "    for qubit in qubits:\n",
    "        qc.h(qubit)  # Hadamard gate as a placeholder for actual S-box\n",
    "\n",
    "# Placeholder for ShiftRows\n",
    "def shift_rows(qc, qubits):\n",
    "    # Assuming a 4x4 block for simplicity\n",
    "    qc.cx(qubits[1], qubits[5])\n",
    "    qc.cx(qubits[2], qubits[10])\n",
    "    qc.cx(qubits[3], qubits[15])\n",
    "\n",
    "# Placeholder for MixColumns\n",
    "def mix_columns(qc, qubits):\n",
    "    # MixColumns is a linear transformation\n",
    "    # For simplicity, using CNOT gates as placeholders\n",
    "    for i in range(len(qubits)):\n",
    "        qc.cx(qubits[i], qubits[(i + 1) % len(qubits)])\n",
    "\n",
    "# AddRoundKey function\n",
    "def add_round_key(qc, key):\n",
    "    for i in range(len(key)):\n",
    "        if key[i] == '1':\n",
    "            qc.cx(i, (i + 1) % len(key))\n",
    "\n",
    "# Function to run the AES encryption process\n",
    "def aes_encryption(plaintext, key):\n",
    "    n = len(plaintext)\n",
    "    qc = QuantumCircuit(n, n)\n",
    "    \n",
    "    # Initialize the quantum state\n",
    "    initialize_state(qc, plaintext)\n",
    "    \n",
    "    # Apply the AES rounds (simplified for demonstration)\n",
    "    for _ in range(3):  # Number of rounds adjusted for simplicity\n",
    "        sub_bytes(qc, range(n))\n",
    "        shift_rows(qc, range(n))\n",
    "        mix_columns(qc, range(n))\n",
    "        add_round_key(qc, key)\n",
    "    \n",
    "    # Measure the qubits\n",
    "    qc.measure(range(n), range(n))\n",
    "    \n",
    "    return qc\n",
    "\n",
    "# Define plaintext and key (binary strings for simplicity)\n",
    "plaintext = '1101'\n",
    "key = '1010'\n",
    "\n",
    "# Create the quantum circuit\n",
    "qc = aes_encryption(plaintext, key)\n",
    "\n",
    "# Simulate the circuit\n",
    "simulator = AerSimulator()\n",
    "compiled_circuit = transpile(qc, simulator)\n",
    "qobj = assemble(compiled_circuit)\n",
    "result = simulator.run(compiled_circuit).result()\n",
    "counts = result.get_counts()\n",
    "\n",
    "# Output the simulation result\n",
    "print(\"Simulation result:\", counts)\n",
    "plot_histogram(counts).show()"
   ]
  },
  {
   "cell_type": "code",
   "execution_count": 40,
   "metadata": {
    "ExecuteTime": {
     "end_time": "2024-08-03T20:35:03.431895600Z",
     "start_time": "2024-08-03T20:35:03.395187200Z"
    }
   },
   "outputs": [],
   "source": [
    "\n"
   ]
  },
  {
   "cell_type": "code",
   "execution_count": 41,
   "metadata": {
    "ExecuteTime": {
     "end_time": "2024-08-03T20:35:03.619168600Z",
     "start_time": "2024-08-03T20:35:03.581762800Z"
    }
   },
   "outputs": [],
   "source": [
    "# Basic Structure of Integrating quantum circuts with AES-like operations "
   ]
  },
  {
   "cell_type": "code",
   "execution_count": 42,
   "metadata": {
    "ExecuteTime": {
     "end_time": "2024-08-03T20:35:03.861069Z",
     "start_time": "2024-08-03T20:35:03.760816500Z"
    }
   },
   "outputs": [
    {
     "ename": "ModuleNotFoundError",
     "evalue": "No module named 'qiskit_aer'",
     "output_type": "error",
     "traceback": [
      "\u001b[1;31m---------------------------------------------------------------------------\u001b[0m",
      "\u001b[1;31mModuleNotFoundError\u001b[0m                       Traceback (most recent call last)",
      "Cell \u001b[1;32mIn[42], line 2\u001b[0m\n\u001b[0;32m      1\u001b[0m \u001b[38;5;28;01mfrom\u001b[39;00m \u001b[38;5;21;01mqiskit\u001b[39;00m \u001b[38;5;28;01mimport\u001b[39;00m QuantumCircuit, QuantumRegister, ClassicalRegister, transpile\n\u001b[1;32m----> 2\u001b[0m \u001b[38;5;28;01mfrom\u001b[39;00m \u001b[38;5;21;01mqiskit_aer\u001b[39;00m \u001b[38;5;28;01mimport\u001b[39;00m AerSimulator\n\u001b[0;32m      3\u001b[0m \u001b[38;5;28;01mfrom\u001b[39;00m \u001b[38;5;21;01mqiskit\u001b[39;00m\u001b[38;5;21;01m.\u001b[39;00m\u001b[38;5;21;01mvisualization\u001b[39;00m \u001b[38;5;28;01mimport\u001b[39;00m plot_histogram\n\u001b[0;32m      5\u001b[0m \u001b[38;5;66;03m# Initialize quantum circuit\u001b[39;00m\n",
      "\u001b[1;31mModuleNotFoundError\u001b[0m: No module named 'qiskit_aer'"
     ]
    }
   ],
   "source": [
    "from qiskit import QuantumCircuit, QuantumRegister, ClassicalRegister, transpile\n",
    "from qiskit_aer import AerSimulator\n",
    "from qiskit.visualization import plot_histogram\n",
    "\n",
    "# Initialize quantum circuit\n",
    "num_qubits = 8  # Number of qubits for data\n",
    "qc = QuantumCircuit(num_qubits * 2)  # Data and key qubits\n",
    "\n",
    "# Implement SubBytes (S-box) - simplified example\n",
    "def sub_bytes(qc, qubits):\n",
    "    for q in qubits:\n",
    "        qc.h(q)  # Placeholder for S-box; replace with actual S-box implementation\n",
    "\n",
    "# Implement ShiftRows\n",
    "def shift_rows(qc, qubits):\n",
    "    # Placeholder implementation; replace with actual ShiftRows logic\n",
    "    for i in range(1, len(qubits), 4):\n",
    "        qc.swap(qubits[i], qubits[(i + 1) % len(qubits)])  # Simplified shift\n",
    "\n",
    "# Implement MixColumns - simplified example\n",
    "def mix_columns(qc, qubits):\n",
    "    # Placeholder implementation; replace with actual MixColumns logic\n",
    "    for i in range(0, len(qubits), 4):\n",
    "        qc.cx(qubits[i], qubits[i + 1])\n",
    "        qc.cx(qubits[i + 1], qubits[i + 2])\n",
    "        qc.cx(qubits[i + 2], qubits[i + 3])\n",
    "        qc.cx(qubits[i + 3], qubits[i])\n",
    "\n",
    "# AddRoundKey - XOR operation\n",
    "def add_round_key(qc, qubits, key_qubits):\n",
    "    for i in range(len(qubits)):\n",
    "        qc.cx(qubits[i], key_qubits[i])\n",
    "\n",
    "# Key schedule - simplified example\n",
    "def key_schedule(key):\n",
    "    # Generate round keys from the original key\n",
    "    return [key] * 10  # Simplified; replace with actual key schedule logic\n",
    "\n",
    "# Function to run the AES encryption process\n",
    "def aes_encryption(qc, data_qubits, key_qubits):\n",
    "    round_keys = key_schedule(key_qubits)\n",
    "\n",
    "    # Initial AddRoundKey step\n",
    "    add_round_key(qc, data_qubits, key_qubits)\n",
    "\n",
    "    # Main rounds\n",
    "    for _ in range(9):  # Adjust number of rounds as needed\n",
    "        sub_bytes(qc, data_qubits)\n",
    "        shift_rows(qc, data_qubits)\n",
    "        mix_columns(qc, data_qubits)\n",
    "        add_round_key(qc, data_qubits, key_qubits)\n",
    "\n",
    "    # Final round (without MixColumns)\n",
    "    sub_bytes(qc, data_qubits)\n",
    "    shift_rows(qc, data_qubits)\n",
    "    add_round_key(qc, data_qubits, key_qubits)\n",
    "\n",
    "# Initialize key qubits separately\n",
    "key_register = QuantumRegister(num_qubits, 'key')\n",
    "qc.add_register(key_register)\n",
    "\n",
    "# Initialize classical register for measurement\n",
    "cr = ClassicalRegister(num_qubits)\n",
    "qc.add_register(cr)\n",
    "\n",
    "# Example AES round\n",
    "data_qubits = range(num_qubits)\n",
    "key_qubits = range(num_qubits, num_qubits * 2)  # key qubits are after data qubits\n",
    "\n",
    "# Run AES encryption\n",
    "aes_encryption(qc, data_qubits, key_qubits)\n",
    "\n",
    "# Measure the data qubits\n",
    "qc.measure(data_qubits, range(num_qubits))\n",
    "\n",
    "# Visualize the circuit\n",
    "qc.draw('mpl')\n",
    "\n",
    "# Execute the circuit on the simulator\n",
    "simulator = AerSimulator()\n",
    "compiled_circuit = transpile(qc, simulator)\n",
    "result = simulator.run(compiled_circuit).result()\n",
    "counts = result.get_counts()\n",
    "print(counts)\n",
    "plot_histogram(counts).show()\n"
   ]
  },
  {
   "cell_type": "code",
   "execution_count": 43,
   "metadata": {
    "ExecuteTime": {
     "end_time": "2024-08-03T20:35:03.989300100Z",
     "start_time": "2024-08-03T20:35:03.942669500Z"
    }
   },
   "outputs": [],
   "source": [
    "from qiskit import QuantumCircuit, QuantumRegister\n",
    "\n",
    "def multiplicative_inverse(qc, qubits):\n",
    "    # Placeholder for multiplicative inverse in GF(2^8)\n",
    "    # True implementation requires complex polynomial arithmetic\n",
    "    for q in qubits:\n",
    "        qc.h(q)  # Apply Hadamard gate as a simplified example\n",
    "\n",
    "    # Apply some CNOT gates for entanglement\n",
    "    for i in range(len(qubits) - 1):\n",
    "        qc.cx(qubits[i], qubits[i + 1])\n",
    "\n",
    "    # Apply a Toffoli gate\n",
    "    if len(qubits) >= 3:\n",
    "        qc.ccx(qubits[0], qubits[1], qubits[2])\n"
   ]
  },
  {
   "cell_type": "code",
   "execution_count": 44,
   "metadata": {
    "ExecuteTime": {
     "end_time": "2024-08-03T20:35:04.129090100Z",
     "start_time": "2024-08-03T20:35:04.087749900Z"
    }
   },
   "outputs": [],
   "source": [
    "def affine_transformation(qc, qubits):\n",
    "    # Placeholder for affine transformation\n",
    "    for q in qubits:\n",
    "        qc.x(q)  # Apply NOT gate as a simplified example\n",
    "\n",
    "    # Apply more complex gates as needed\n",
    "    for i in range(len(qubits) - 1):\n",
    "        qc.cx(qubits[i], qubits[i + 1])\n",
    "\n"
   ]
  },
  {
   "cell_type": "code",
   "execution_count": 45,
   "metadata": {
    "ExecuteTime": {
     "end_time": "2024-08-03T20:35:04.300228900Z",
     "start_time": "2024-08-03T20:35:04.257116800Z"
    }
   },
   "outputs": [],
   "source": [
    "def quantum_sbox(qc, qubits):\n",
    "    multiplicative_inverse(qc, qubits)\n",
    "    affine_transformation(qc, qubits)\n"
   ]
  },
  {
   "cell_type": "code",
   "execution_count": 46,
   "metadata": {
    "ExecuteTime": {
     "end_time": "2024-08-03T20:35:04.532200900Z",
     "start_time": "2024-08-03T20:35:04.470091800Z"
    }
   },
   "outputs": [
    {
     "ename": "ModuleNotFoundError",
     "evalue": "No module named 'qiskit_aer'",
     "output_type": "error",
     "traceback": [
      "\u001b[1;31m---------------------------------------------------------------------------\u001b[0m",
      "\u001b[1;31mModuleNotFoundError\u001b[0m                       Traceback (most recent call last)",
      "Cell \u001b[1;32mIn[46], line 2\u001b[0m\n\u001b[0;32m      1\u001b[0m \u001b[38;5;28;01mfrom\u001b[39;00m \u001b[38;5;21;01mqiskit\u001b[39;00m \u001b[38;5;28;01mimport\u001b[39;00m QuantumCircuit, QuantumRegister, ClassicalRegister, transpile\n\u001b[1;32m----> 2\u001b[0m \u001b[38;5;28;01mfrom\u001b[39;00m \u001b[38;5;21;01mqiskit_aer\u001b[39;00m \u001b[38;5;28;01mimport\u001b[39;00m AerSimulator\n\u001b[0;32m      3\u001b[0m \u001b[38;5;28;01mfrom\u001b[39;00m \u001b[38;5;21;01mqiskit\u001b[39;00m\u001b[38;5;21;01m.\u001b[39;00m\u001b[38;5;21;01mvisualization\u001b[39;00m \u001b[38;5;28;01mimport\u001b[39;00m plot_histogram\n\u001b[0;32m      5\u001b[0m \u001b[38;5;66;03m# Number of qubits for the S-box\u001b[39;00m\n",
      "\u001b[1;31mModuleNotFoundError\u001b[0m: No module named 'qiskit_aer'"
     ]
    }
   ],
   "source": [
    "from qiskit import QuantumCircuit, QuantumRegister, ClassicalRegister, transpile\n",
    "from qiskit_aer import AerSimulator\n",
    "from qiskit.visualization import plot_histogram\n",
    "\n",
    "# Number of qubits for the S-box\n",
    "num_qubits = 8\n",
    "qc = QuantumCircuit(num_qubits)\n",
    "\n",
    "# Apply the quantum S-box\n",
    "quantum_sbox(qc, range(num_qubits))\n",
    "\n",
    "# Measure the qubits\n",
    "cr = ClassicalRegister(num_qubits, 'cr')\n",
    "qc.add_register(cr)\n",
    "qc.measure(range(num_qubits), cr)\n",
    "\n",
    "# Visualize the circuit\n",
    "qc.draw('mpl')\n",
    "\n",
    "# Execute the circuit on the simulator\n",
    "simulator = AerSimulator()\n",
    "compiled_circuit = transpile(qc, simulator)\n",
    "result = simulator.run(compiled_circuit).result()\n",
    "counts = result.get_counts()\n",
    "print(counts)\n",
    "plot_histogram(counts).show()\n"
   ]
  },
  {
   "cell_type": "code",
   "execution_count": 47,
   "metadata": {
    "ExecuteTime": {
     "end_time": "2024-08-03T20:35:04.646642600Z",
     "start_time": "2024-08-03T20:35:04.575638900Z"
    }
   },
   "outputs": [],
   "source": [
    "#########################################################################"
   ]
  },
  {
   "cell_type": "code",
   "execution_count": 48,
   "metadata": {
    "ExecuteTime": {
     "end_time": "2024-08-03T20:35:04.765246600Z",
     "start_time": "2024-08-03T20:35:04.716486600Z"
    }
   },
   "outputs": [],
   "source": [
    "from qiskit import QuantumCircuit, QuantumRegister\n",
    "\n",
    "def multiplicative_inverse(qc, qubits):\n",
    "    # Simplified placeholder for the multiplicative inverse\n",
    "    for q in qubits:\n",
    "        qc.h(q)  # Apply Hadamard gate as a simplified example\n",
    "    # Apply CNOT gates for entanglement\n",
    "    for i in range(len(qubits) - 1):\n",
    "        qc.cx(qubits[i], qubits[i + 1])\n",
    "    # Apply Toffoli gate\n",
    "    if len(qubits) >= 3:\n",
    "        qc.ccx(qubits[0], qubits[1], qubits[2])\n",
    "\n"
   ]
  },
  {
   "cell_type": "code",
   "execution_count": 49,
   "metadata": {
    "ExecuteTime": {
     "end_time": "2024-08-03T20:35:04.880678200Z",
     "start_time": "2024-08-03T20:35:04.847457900Z"
    }
   },
   "outputs": [],
   "source": [
    "def affine_transformation(qc, qubits):\n",
    "    # Affine transformation matrix for AES S-box\n",
    "    affine_matrix = [\n",
    "        [1, 1, 0, 0, 0, 1, 1, 1],\n",
    "        [1, 1, 1, 0, 0, 0, 1, 1],\n",
    "        [1, 1, 1, 1, 0, 0, 0, 1],\n",
    "        [1, 1, 1, 1, 1, 0, 0, 0],\n",
    "        [0, 1, 1, 1, 1, 1, 0, 0],\n",
    "        [0, 0, 1, 1, 1, 1, 1, 0],\n",
    "        [0, 0, 0, 1, 1, 1, 1, 1],\n",
    "        [1, 0, 0, 0, 1, 1, 1, 1]\n",
    "    ]\n",
    "    constant = [1, 1, 0, 0, 0, 1, 1, 0]\n",
    "    \n",
    "    for i, row in enumerate(affine_matrix):\n",
    "        for j, bit in enumerate(row):\n",
    "            if bit:\n",
    "                qc.cx(qubits[j], qubits[i])\n",
    "        if constant[i]:\n",
    "            qc.x(qubits[i])\n"
   ]
  },
  {
   "cell_type": "code",
   "execution_count": 50,
   "metadata": {
    "ExecuteTime": {
     "end_time": "2024-08-03T20:35:05.017516100Z",
     "start_time": "2024-08-03T20:35:04.993111100Z"
    }
   },
   "outputs": [],
   "source": [
    "def quantum_sbox(qc, qubits):\n",
    "    multiplicative_inverse(qc, qubits)\n",
    "    affine_transformation(qc, qubits)\n"
   ]
  },
  {
   "cell_type": "code",
   "execution_count": 56,
   "metadata": {
    "ExecuteTime": {
     "end_time": "2024-08-03T20:41:57.066631400Z",
     "start_time": "2024-08-03T20:41:57.026191200Z"
    }
   },
   "outputs": [
    {
     "ename": "ModuleNotFoundError",
     "evalue": "No module named 'qiskit_aer'",
     "output_type": "error",
     "traceback": [
      "\u001b[1;31m---------------------------------------------------------------------------\u001b[0m",
      "\u001b[1;31mModuleNotFoundError\u001b[0m                       Traceback (most recent call last)",
      "Cell \u001b[1;32mIn[56], line 2\u001b[0m\n\u001b[0;32m      1\u001b[0m \u001b[38;5;28;01mfrom\u001b[39;00m \u001b[38;5;21;01mqiskit\u001b[39;00m \u001b[38;5;28;01mimport\u001b[39;00m QuantumCircuit, QuantumRegister, ClassicalRegister, transpile\n\u001b[1;32m----> 2\u001b[0m \u001b[38;5;28;01mfrom\u001b[39;00m \u001b[38;5;21;01mqiskit_aer\u001b[39;00m \u001b[38;5;28;01mimport\u001b[39;00m AerSimulator\n\u001b[0;32m      3\u001b[0m \u001b[38;5;28;01mfrom\u001b[39;00m \u001b[38;5;21;01mqiskit\u001b[39;00m\u001b[38;5;21;01m.\u001b[39;00m\u001b[38;5;21;01mvisualization\u001b[39;00m \u001b[38;5;28;01mimport\u001b[39;00m plot_histogram\n\u001b[0;32m      5\u001b[0m \u001b[38;5;66;03m# Implementing Multiplicative Inverse (placeholder)\u001b[39;00m\n",
      "\u001b[1;31mModuleNotFoundError\u001b[0m: No module named 'qiskit_aer'"
     ]
    }
   ],
   "source": [
    "from qiskit import QuantumCircuit, QuantumRegister, ClassicalRegister, transpile\n",
    "from qiskit_aer import AerSimulator\n",
    "from qiskit.visualization import plot_histogram\n",
    "\n",
    "# Implementing Multiplicative Inverse (placeholder)\n",
    "def multiplicative_inverse(qc, qubits):\n",
    "    for q in qubits:\n",
    "        qc.h(q)  # Apply Hadamard gate as a simplified example\n",
    "    for i in range(len(qubits) - 1):\n",
    "        qc.cx(qubits[i], qubits[i + 1])\n",
    "    if len(qubits) >= 3:\n",
    "        qc.ccx(qubits[0], qubits[1], qubits[2])\n",
    "\n",
    "# Implementing Affine Transformation\n",
    "def affine_transformation(qc, qubits):\n",
    "    affine_matrix = [\n",
    "        [1, 1, 0, 0, 0, 1, 1, 1],\n",
    "        [1, 1, 1, 0, 0, 0, 1, 1],\n",
    "        [1, 1, 1, 1, 0, 0, 0, 1],\n",
    "        [1, 1, 1, 1, 1, 0, 0, 0],\n",
    "        [0, 1, 1, 1, 1, 1, 0, 0],\n",
    "        [0, 0, 1, 1, 1, 1, 1, 0],\n",
    "        [0, 0, 0, 1, 1, 1, 1, 1],\n",
    "        [1, 0, 0, 0, 1, 1, 1, 1]\n",
    "    ]\n",
    "    constant = [1, 1, 0, 0, 0, 1, 1, 0]\n",
    "    \n",
    "    for i, row in enumerate(affine_matrix):\n",
    "        for j, bit in enumerate(row):\n",
    "            if bit and i != j:\n",
    "                qc.cx(qubits[j], qubits[i])\n",
    "        if constant[i]:\n",
    "            qc.x(qubits[i])\n",
    "\n",
    "# Combine into Quantum S-box\n",
    "def quantum_sbox(qc, qubits):\n",
    "    multiplicative_inverse(qc, qubits)\n",
    "    affine_transformation(qc, qubits)\n",
    "\n",
    "# Create Quantum Circuit\n",
    "num_qubits = 8\n",
    "qc = QuantumCircuit(num_qubits)\n",
    "\n",
    "# Apply the Quantum S-box\n",
    "quantum_sbox(qc, range(num_qubits))\n",
    "\n",
    "# Measure the Qubits\n",
    "cr = ClassicalRegister(num_qubits)\n",
    "qc.add_register(cr)\n",
    "qc.measure(range(num_qubits), cr)\n",
    "\n",
    "# Visualize the Circuit\n",
    "qc.draw('mpl')\n",
    "\n",
    "# Execute the Circuit on the Simulator\n",
    "simulator = AerSimulator()\n",
    "compiled_circuit = transpile(qc, simulator)\n",
    "result = simulator.run(compiled_circuit).result()\n",
    "counts = result.get_counts()\n",
    "print(counts)\n",
    "plot_histogram(counts).show()\n"
   ]
  },
  {
   "cell_type": "code",
   "execution_count": 51,
   "metadata": {
    "ExecuteTime": {
     "end_time": "2024-08-03T20:35:05.658886600Z",
     "start_time": "2024-08-03T20:35:05.626487600Z"
    }
   },
   "outputs": [],
   "source": []
  },
  {
   "cell_type": "code",
   "execution_count": 51,
   "metadata": {
    "ExecuteTime": {
     "end_time": "2024-08-03T20:35:05.781662800Z",
     "start_time": "2024-08-03T20:35:05.749295200Z"
    }
   },
   "outputs": [],
   "source": []
  },
  {
   "cell_type": "code",
   "execution_count": 51,
   "metadata": {
    "ExecuteTime": {
     "end_time": "2024-08-03T20:35:05.946673400Z",
     "start_time": "2024-08-03T20:35:05.919121800Z"
    }
   },
   "outputs": [],
   "source": []
  },
  {
   "cell_type": "code",
   "execution_count": null,
   "metadata": {},
   "outputs": [],
   "source": []
  },
  {
   "cell_type": "markdown",
   "metadata": {},
   "source": [
    "# Trying to implement the exact mentioned stuff"
   ]
  },
  {
   "cell_type": "code",
   "execution_count": null,
   "metadata": {},
   "outputs": [],
   "source": [
    "from qiskit import QuantumCircuit, QuantumRegister, ClassicalRegister, transpile\n",
    "from qiskit_aer import AerSimulator\n",
    "from qiskit.visualization import plot_histogram\n",
    "\n",
    "def multiplicative_inverse(qc, qubits):\n",
    "    # This is still a placeholder; actual implementation involves complex arithmetic\n",
    "    for q in qubits:\n",
    "        qc.h(q)  # Apply Hadamard gate as a simplified example\n",
    "\n",
    "    # Apply CNOT gates for entanglement\n",
    "    for i in range(len(qubits) - 1):\n",
    "        qc.cx(qubits[i], qubits[i + 1])\n",
    "\n",
    "    # Apply Toffoli gate for demonstration\n",
    "    if len(qubits) >= 3:\n",
    "        qc.ccx(qubits[0], qubits[1], qubits[2])\n"
   ]
  },
  {
   "cell_type": "code",
   "execution_count": null,
   "metadata": {},
   "outputs": [],
   "source": [
    "def affine_transformation(qc, qubits):\n",
    "    affine_matrix = [\n",
    "        [1, 1, 0, 0, 0, 1, 1, 1],\n",
    "        [1, 1, 1, 0, 0, 0, 1, 1],\n",
    "        [1, 1, 1, 1, 0, 0, 0, 1],\n",
    "        [1, 1, 1, 1, 1, 0, 0, 0],\n",
    "        [0, 1, 1, 1, 1, 1, 0, 0],\n",
    "        [0, 0, 1, 1, 1, 1, 1, 0],\n",
    "        [0, 0, 0, 1, 1, 1, 1, 1],\n",
    "        [1, 0, 0, 0, 1, 1, 1, 1]\n",
    "    ]\n",
    "    constant = [1, 1, 0, 0, 0, 1, 1, 0]\n",
    "    \n",
    "    for i, row in enumerate(affine_matrix):\n",
    "        for j, bit in enumerate(row):\n",
    "            if bit and i != j:\n",
    "                qc.cx(qubits[j], qubits[i])\n",
    "        if constant[i]:\n",
    "            qc.x(qubits[i])\n"
   ]
  },
  {
   "cell_type": "code",
   "execution_count": null,
   "metadata": {},
   "outputs": [],
   "source": [
    "def quantum_sbox(qc, qubits):\n",
    "    multiplicative_inverse(qc, qubits)\n",
    "    affine_transformation(qc, qubits)\n"
   ]
  },
  {
   "cell_type": "code",
   "execution_count": null,
   "metadata": {},
   "outputs": [],
   "source": [
    "# Number of qubits for the S-box\n",
    "num_qubits = 8\n",
    "qc = QuantumCircuit(num_qubits)\n",
    "\n",
    "# Apply the quantum S-box\n",
    "quantum_sbox(qc, range(num_qubits))\n",
    "\n",
    "# Measure the qubits\n",
    "cr = ClassicalRegister(num_qubits)\n",
    "qc.add_register(cr)\n",
    "qc.measure(range(num_qubits), cr)\n",
    "\n",
    "# Visualize the circuit\n",
    "qc.draw('mpl')\n",
    "\n",
    "# Execute the circuit on the simulator\n",
    "simulator = AerSimulator()\n",
    "compiled_circuit = transpile(qc, simulator)\n",
    "result = simulator.run(compiled_circuit).result()\n",
    "counts = result.get_counts()\n",
    "print(counts)\n",
    "plot_histogram(counts).show()\n"
   ]
  },
  {
   "cell_type": "code",
   "execution_count": null,
   "metadata": {},
   "outputs": [],
   "source": [
    "%pip install install qiskit==0.45.0"
   ]
  },
  {
   "cell_type": "code",
   "execution_count": 53,
   "metadata": {
    "ExecuteTime": {
     "end_time": "2024-08-03T20:41:45.122273100Z",
     "start_time": "2024-08-03T20:41:45.079196600Z"
    }
   },
   "outputs": [
    {
     "ename": "ImportError",
     "evalue": "cannot import name 'IBMQ' from 'qiskit' (E:\\MS Cyber Security\\Proposal\\Research Implementation\\ven\\ven\\Lib\\site-packages\\qiskit\\__init__.py)",
     "output_type": "error",
     "traceback": [
      "\u001b[1;31m---------------------------------------------------------------------------\u001b[0m",
      "\u001b[1;31mImportError\u001b[0m                               Traceback (most recent call last)",
      "Cell \u001b[1;32mIn[53], line 1\u001b[0m\n\u001b[1;32m----> 1\u001b[0m \u001b[38;5;28;01mfrom\u001b[39;00m \u001b[38;5;21;01mqiskit\u001b[39;00m \u001b[38;5;28;01mimport\u001b[39;00m IBMQ\n\u001b[0;32m      2\u001b[0m \u001b[38;5;66;03m# !pip install qiskit qiskit-aer qiskit-ibmq-provider matplotlib\u001b[39;00m\n",
      "\u001b[1;31mImportError\u001b[0m: cannot import name 'IBMQ' from 'qiskit' (E:\\MS Cyber Security\\Proposal\\Research Implementation\\ven\\ven\\Lib\\site-packages\\qiskit\\__init__.py)"
     ]
    }
   ],
   "source": [
    "from qiskit import IBMQ\n",
    "# !pip install qiskit qiskit-aer qiskit-ibmq-provider matplotlib\n",
    "\n",
    "\n"
   ]
  },
  {
   "cell_type": "code",
   "execution_count": 54,
   "metadata": {
    "ExecuteTime": {
     "end_time": "2024-08-03T20:41:50.555402500Z",
     "start_time": "2024-08-03T20:41:50.510490700Z"
    }
   },
   "outputs": [
    {
     "ename": "NameError",
     "evalue": "name 'IBMQ' is not defined",
     "output_type": "error",
     "traceback": [
      "\u001b[1;31m---------------------------------------------------------------------------\u001b[0m",
      "\u001b[1;31mNameError\u001b[0m                                 Traceback (most recent call last)",
      "Cell \u001b[1;32mIn[54], line 2\u001b[0m\n\u001b[0;32m      1\u001b[0m \u001b[38;5;66;03m# Load your IBM Q account\u001b[39;00m\n\u001b[1;32m----> 2\u001b[0m \u001b[43mIBMQ\u001b[49m\u001b[38;5;241m.\u001b[39mload_account()\n\u001b[0;32m      3\u001b[0m provider \u001b[38;5;241m=\u001b[39m IBMQ\u001b[38;5;241m.\u001b[39mget_provider(hub\u001b[38;5;241m=\u001b[39m\u001b[38;5;124m'\u001b[39m\u001b[38;5;124mibm-q\u001b[39m\u001b[38;5;124m'\u001b[39m)\n\u001b[0;32m      4\u001b[0m backend \u001b[38;5;241m=\u001b[39m provider\u001b[38;5;241m.\u001b[39mget_backend(\u001b[38;5;124m'\u001b[39m\u001b[38;5;124mibmq_qasm_simulator\u001b[39m\u001b[38;5;124m'\u001b[39m)  \u001b[38;5;66;03m# Replace with the actual quantum backend, e.g., 'ibmq_athens'\u001b[39;00m\n",
      "\u001b[1;31mNameError\u001b[0m: name 'IBMQ' is not defined"
     ]
    }
   ],
   "source": [
    "\n",
    "# Load your IBM Q account\n",
    "IBMQ.load_account()\n",
    "provider = IBMQ.get_provider(hub='ibm-q')\n",
    "backend = provider.get_backend('ibmq_qasm_simulator')  # Replace with the actual quantum backend, e.g., 'ibmq_athens'\n",
    "\n"
   ]
  },
  {
   "cell_type": "code",
   "execution_count": null,
   "metadata": {},
   "outputs": [],
   "source": [
    "# last try before draft  "
   ]
  },
  {
   "cell_type": "code",
   "execution_count": 55,
   "metadata": {
    "ExecuteTime": {
     "end_time": "2024-08-03T20:41:52.603045300Z",
     "start_time": "2024-08-03T20:41:52.567487800Z"
    }
   },
   "outputs": [],
   "source": [
    "from qiskit import QuantumCircuit\n",
    "\n",
    "def multiplicative_inverse(qc, qubits):\n",
    "    # Placeholder for the multiplicative inverse using Hadamard gates\n",
    "    for q in qubits:\n",
    "        qc.h(q)  # Apply Hadamard gate as a simplified example\n",
    "\n",
    "    # Apply CNOT gates for entanglement\n",
    "    for i in range(len(qubits) - 1):\n",
    "        qc.cx(qubits[i], qubits[i + 1])\n",
    "\n",
    "    # Apply Toffoli gate for demonstration\n",
    "    if len(qubits) >= 3:\n",
    "        qc.ccx(qubits[0], qubits[1], qubits[2])\n"
   ]
  },
  {
   "cell_type": "code",
   "execution_count": 52,
   "metadata": {
    "ExecuteTime": {
     "end_time": "2024-08-03T20:41:28.535689400Z",
     "start_time": "2024-08-03T20:41:28.511163300Z"
    }
   },
   "outputs": [],
   "source": []
  },
  {
   "cell_type": "code",
   "execution_count": 57,
   "metadata": {
    "ExecuteTime": {
     "end_time": "2024-08-03T20:43:11.347812600Z",
     "start_time": "2024-08-03T20:43:11.283162600Z"
    }
   },
   "outputs": [
    {
     "ename": "ModuleNotFoundError",
     "evalue": "No module named 'qiskit_aer'",
     "output_type": "error",
     "traceback": [
      "\u001b[1;31m---------------------------------------------------------------------------\u001b[0m",
      "\u001b[1;31mModuleNotFoundError\u001b[0m                       Traceback (most recent call last)",
      "Cell \u001b[1;32mIn[57], line 2\u001b[0m\n\u001b[0;32m      1\u001b[0m \u001b[38;5;28;01mimport\u001b[39;00m \u001b[38;5;21;01mqiskit\u001b[39;00m\n\u001b[1;32m----> 2\u001b[0m \u001b[38;5;28;01mfrom\u001b[39;00m \u001b[38;5;21;01mqiskit_aer\u001b[39;00m \u001b[38;5;28;01mimport\u001b[39;00m AerSimulator\n\u001b[0;32m      4\u001b[0m \u001b[38;5;66;03m# Generate 3-qubit GHZ state\u001b[39;00m\n\u001b[0;32m      5\u001b[0m circ \u001b[38;5;241m=\u001b[39m qiskit\u001b[38;5;241m.\u001b[39mQuantumCircuit(\u001b[38;5;241m3\u001b[39m)\n",
      "\u001b[1;31mModuleNotFoundError\u001b[0m: No module named 'qiskit_aer'"
     ]
    }
   ],
   "source": [
    "import qiskit\n",
    "from qiskit_aer import AerSimulator\n",
    "\n",
    "# Generate 3-qubit GHZ state\n",
    "circ = qiskit.QuantumCircuit(3)\n",
    "circ.h(0)\n",
    "circ.cx(0, 1)\n",
    "circ.cx(1, 2)\n",
    "circ.measure_all()\n",
    "\n",
    "# Construct an ideal simulator\n",
    "aersim = AerSimulator()\n",
    "\n",
    "# Perform an ideal simulation\n",
    "result_ideal = qiskit.execute(circ, aersim).result()\n",
    "counts_ideal = result_ideal.get_counts(0)\n",
    "print('Counts(ideal):', counts_ideal)"
   ]
  },
  {
   "cell_type": "code",
   "execution_count": null,
   "metadata": {},
   "outputs": [],
   "source": []
  }
 ],
 "metadata": {
  "kernelspec": {
   "display_name": "Python 3 (ipykernel)",
   "language": "python",
   "name": "python3"
  },
  "language_info": {
   "codemirror_mode": {
    "name": "ipython",
    "version": 3
   },
   "file_extension": ".py",
   "mimetype": "text/x-python",
   "name": "python",
   "nbconvert_exporter": "python",
   "pygments_lexer": "ipython3",
   "version": "3.11.0"
  }
 },
 "nbformat": 4,
 "nbformat_minor": 4
}
