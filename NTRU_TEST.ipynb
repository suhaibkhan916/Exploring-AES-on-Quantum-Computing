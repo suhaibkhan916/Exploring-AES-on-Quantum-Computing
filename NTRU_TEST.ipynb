{
 "cells": [
  {
   "cell_type": "code",
   "execution_count": 6,
   "metadata": {
    "ExecuteTime": {
     "end_time": "2024-08-03T20:41:05.759806700Z",
     "start_time": "2024-08-03T20:41:05.709640Z"
    }
   },
   "outputs": [
    {
     "ename": "ImportError",
     "evalue": "Qiskit is installed in an invalid environment that has both Qiskit >=1.0 and an earlier version. You should create a new virtual environment, and ensure that you do not mix dependencies between Qiskit <1.0 and >=1.0. Any packages that depend on 'qiskit-terra' are not compatible with Qiskit 1.0 and will need to be updated. Qiskit unfortunately cannot enforce this requirement during environment resolution. See https://qisk.it/packaging-1-0 for more detail.",
     "output_type": "error",
     "traceback": [
      "\u001B[1;31m---------------------------------------------------------------------------\u001B[0m",
      "\u001B[1;31mImportError\u001B[0m                               Traceback (most recent call last)",
      "Cell \u001B[1;32mIn[6], line 2\u001B[0m\n\u001B[0;32m      1\u001B[0m \u001B[38;5;66;03m# NTRU Test Section  \u001B[39;00m\n\u001B[1;32m----> 2\u001B[0m \u001B[38;5;28;01mfrom\u001B[39;00m \u001B[38;5;21;01mqiskit\u001B[39;00m \u001B[38;5;28;01mimport\u001B[39;00m QuantumCircuit, ClassicalRegister, transpile, IBMQ\n\u001B[0;32m      3\u001B[0m \u001B[38;5;28;01mfrom\u001B[39;00m \u001B[38;5;21;01mqiskit_aer\u001B[39;00m \u001B[38;5;28;01mimport\u001B[39;00m AerSimulator\n\u001B[0;32m      4\u001B[0m \u001B[38;5;28;01mfrom\u001B[39;00m \u001B[38;5;21;01mqiskit\u001B[39;00m\u001B[38;5;21;01m.\u001B[39;00m\u001B[38;5;21;01mvisualization\u001B[39;00m \u001B[38;5;28;01mimport\u001B[39;00m plot_histogram\n",
      "File \u001B[1;32mE:\\MS Cyber Security\\Proposal\\Research Implementation\\ven\\ven\\Lib\\site-packages\\qiskit\\__init__.py:38\u001B[0m\n\u001B[0;32m     36\u001B[0m     _suppress_error \u001B[38;5;241m=\u001B[39m os\u001B[38;5;241m.\u001B[39menviron\u001B[38;5;241m.\u001B[39mget(\u001B[38;5;124m\"\u001B[39m\u001B[38;5;124mQISKIT_SUPPRESS_1_0_IMPORT_ERROR\u001B[39m\u001B[38;5;124m\"\u001B[39m, \u001B[38;5;28;01mFalse\u001B[39;00m) \u001B[38;5;241m==\u001B[39m \u001B[38;5;124m\"\u001B[39m\u001B[38;5;124m1\u001B[39m\u001B[38;5;124m\"\u001B[39m\n\u001B[0;32m     37\u001B[0m     \u001B[38;5;28;01mif\u001B[39;00m \u001B[38;5;28mint\u001B[39m(_major) \u001B[38;5;241m>\u001B[39m \u001B[38;5;241m0\u001B[39m \u001B[38;5;129;01mand\u001B[39;00m \u001B[38;5;129;01mnot\u001B[39;00m _suppress_error:\n\u001B[1;32m---> 38\u001B[0m         \u001B[38;5;28;01mraise\u001B[39;00m \u001B[38;5;167;01mImportError\u001B[39;00m(\n\u001B[0;32m     39\u001B[0m             \u001B[38;5;124m\"\u001B[39m\u001B[38;5;124mQiskit is installed in an invalid environment that has both Qiskit >=1.0\u001B[39m\u001B[38;5;124m\"\u001B[39m\n\u001B[0;32m     40\u001B[0m             \u001B[38;5;124m\"\u001B[39m\u001B[38;5;124m and an earlier version.\u001B[39m\u001B[38;5;124m\"\u001B[39m\n\u001B[0;32m     41\u001B[0m             \u001B[38;5;124m\"\u001B[39m\u001B[38;5;124m You should create a new virtual environment, and ensure that you do not mix\u001B[39m\u001B[38;5;124m\"\u001B[39m\n\u001B[0;32m     42\u001B[0m             \u001B[38;5;124m\"\u001B[39m\u001B[38;5;124m dependencies between Qiskit <1.0 and >=1.0.\u001B[39m\u001B[38;5;124m\"\u001B[39m\n\u001B[0;32m     43\u001B[0m             \u001B[38;5;124m\"\u001B[39m\u001B[38;5;124m Any packages that depend on \u001B[39m\u001B[38;5;124m'\u001B[39m\u001B[38;5;124mqiskit-terra\u001B[39m\u001B[38;5;124m'\u001B[39m\u001B[38;5;124m are not compatible with Qiskit 1.0 and\u001B[39m\u001B[38;5;124m\"\u001B[39m\n\u001B[0;32m     44\u001B[0m             \u001B[38;5;124m\"\u001B[39m\u001B[38;5;124m will need to be updated.\u001B[39m\u001B[38;5;124m\"\u001B[39m\n\u001B[0;32m     45\u001B[0m             \u001B[38;5;124m\"\u001B[39m\u001B[38;5;124m Qiskit unfortunately cannot enforce this requirement during environment resolution.\u001B[39m\u001B[38;5;124m\"\u001B[39m\n\u001B[0;32m     46\u001B[0m             \u001B[38;5;124m\"\u001B[39m\u001B[38;5;124m See https://qisk.it/packaging-1-0 for more detail.\u001B[39m\u001B[38;5;124m\"\u001B[39m\n\u001B[0;32m     47\u001B[0m         )\n\u001B[0;32m     49\u001B[0m \u001B[38;5;28;01mimport\u001B[39;00m \u001B[38;5;21;01mqiskit\u001B[39;00m\u001B[38;5;21;01m.\u001B[39;00m\u001B[38;5;21;01m_accelerate\u001B[39;00m\n\u001B[0;32m     50\u001B[0m \u001B[38;5;28;01mimport\u001B[39;00m \u001B[38;5;21;01mqiskit\u001B[39;00m\u001B[38;5;21;01m.\u001B[39;00m\u001B[38;5;21;01m_numpy_compat\u001B[39;00m\n",
      "\u001B[1;31mImportError\u001B[0m: Qiskit is installed in an invalid environment that has both Qiskit >=1.0 and an earlier version. You should create a new virtual environment, and ensure that you do not mix dependencies between Qiskit <1.0 and >=1.0. Any packages that depend on 'qiskit-terra' are not compatible with Qiskit 1.0 and will need to be updated. Qiskit unfortunately cannot enforce this requirement during environment resolution. See https://qisk.it/packaging-1-0 for more detail."
     ]
    }
   ],
   "source": [
    "# NTRU Test Section  \n",
    "from qiskit import QuantumCircuit, ClassicalRegister, transpile, IBMQ\n",
    "from qiskit_aer import AerSimulator\n",
    "from qiskit.visualization import plot_histogram\n",
    "\n",
    "print(\"Qiskit and its components are installed correctly.\")\n",
    "\n"
   ]
  },
  {
   "cell_type": "code",
   "execution_count": 5,
   "outputs": [
    {
     "ename": "ImportError",
     "evalue": "Qiskit is installed in an invalid environment that has both Qiskit >=1.0 and an earlier version. You should create a new virtual environment, and ensure that you do not mix dependencies between Qiskit <1.0 and >=1.0. Any packages that depend on 'qiskit-terra' are not compatible with Qiskit 1.0 and will need to be updated. Qiskit unfortunately cannot enforce this requirement during environment resolution. See https://qisk.it/packaging-1-0 for more detail.",
     "output_type": "error",
     "traceback": [
      "\u001B[1;31m---------------------------------------------------------------------------\u001B[0m",
      "\u001B[1;31mImportError\u001B[0m                               Traceback (most recent call last)",
      "Cell \u001B[1;32mIn[5], line 1\u001B[0m\n\u001B[1;32m----> 1\u001B[0m \u001B[38;5;28;01mfrom\u001B[39;00m \u001B[38;5;21;01mqiskit\u001B[39;00m \u001B[38;5;28;01mimport\u001B[39;00m QuantumCircuit, ClassicalRegister, transpile, IBMQ\n\u001B[0;32m      2\u001B[0m \u001B[38;5;28;01mfrom\u001B[39;00m \u001B[38;5;21;01mqiskit_aer\u001B[39;00m \u001B[38;5;28;01mimport\u001B[39;00m AerSimulator\n\u001B[0;32m      3\u001B[0m \u001B[38;5;28;01mfrom\u001B[39;00m \u001B[38;5;21;01mqiskit\u001B[39;00m\u001B[38;5;21;01m.\u001B[39;00m\u001B[38;5;21;01mvisualization\u001B[39;00m \u001B[38;5;28;01mimport\u001B[39;00m plot_histogram\n",
      "File \u001B[1;32mE:\\MS Cyber Security\\Proposal\\Research Implementation\\ven\\ven\\Lib\\site-packages\\qiskit\\__init__.py:38\u001B[0m\n\u001B[0;32m     36\u001B[0m     _suppress_error \u001B[38;5;241m=\u001B[39m os\u001B[38;5;241m.\u001B[39menviron\u001B[38;5;241m.\u001B[39mget(\u001B[38;5;124m\"\u001B[39m\u001B[38;5;124mQISKIT_SUPPRESS_1_0_IMPORT_ERROR\u001B[39m\u001B[38;5;124m\"\u001B[39m, \u001B[38;5;28;01mFalse\u001B[39;00m) \u001B[38;5;241m==\u001B[39m \u001B[38;5;124m\"\u001B[39m\u001B[38;5;124m1\u001B[39m\u001B[38;5;124m\"\u001B[39m\n\u001B[0;32m     37\u001B[0m     \u001B[38;5;28;01mif\u001B[39;00m \u001B[38;5;28mint\u001B[39m(_major) \u001B[38;5;241m>\u001B[39m \u001B[38;5;241m0\u001B[39m \u001B[38;5;129;01mand\u001B[39;00m \u001B[38;5;129;01mnot\u001B[39;00m _suppress_error:\n\u001B[1;32m---> 38\u001B[0m         \u001B[38;5;28;01mraise\u001B[39;00m \u001B[38;5;167;01mImportError\u001B[39;00m(\n\u001B[0;32m     39\u001B[0m             \u001B[38;5;124m\"\u001B[39m\u001B[38;5;124mQiskit is installed in an invalid environment that has both Qiskit >=1.0\u001B[39m\u001B[38;5;124m\"\u001B[39m\n\u001B[0;32m     40\u001B[0m             \u001B[38;5;124m\"\u001B[39m\u001B[38;5;124m and an earlier version.\u001B[39m\u001B[38;5;124m\"\u001B[39m\n\u001B[0;32m     41\u001B[0m             \u001B[38;5;124m\"\u001B[39m\u001B[38;5;124m You should create a new virtual environment, and ensure that you do not mix\u001B[39m\u001B[38;5;124m\"\u001B[39m\n\u001B[0;32m     42\u001B[0m             \u001B[38;5;124m\"\u001B[39m\u001B[38;5;124m dependencies between Qiskit <1.0 and >=1.0.\u001B[39m\u001B[38;5;124m\"\u001B[39m\n\u001B[0;32m     43\u001B[0m             \u001B[38;5;124m\"\u001B[39m\u001B[38;5;124m Any packages that depend on \u001B[39m\u001B[38;5;124m'\u001B[39m\u001B[38;5;124mqiskit-terra\u001B[39m\u001B[38;5;124m'\u001B[39m\u001B[38;5;124m are not compatible with Qiskit 1.0 and\u001B[39m\u001B[38;5;124m\"\u001B[39m\n\u001B[0;32m     44\u001B[0m             \u001B[38;5;124m\"\u001B[39m\u001B[38;5;124m will need to be updated.\u001B[39m\u001B[38;5;124m\"\u001B[39m\n\u001B[0;32m     45\u001B[0m             \u001B[38;5;124m\"\u001B[39m\u001B[38;5;124m Qiskit unfortunately cannot enforce this requirement during environment resolution.\u001B[39m\u001B[38;5;124m\"\u001B[39m\n\u001B[0;32m     46\u001B[0m             \u001B[38;5;124m\"\u001B[39m\u001B[38;5;124m See https://qisk.it/packaging-1-0 for more detail.\u001B[39m\u001B[38;5;124m\"\u001B[39m\n\u001B[0;32m     47\u001B[0m         )\n\u001B[0;32m     49\u001B[0m \u001B[38;5;28;01mimport\u001B[39;00m \u001B[38;5;21;01mqiskit\u001B[39;00m\u001B[38;5;21;01m.\u001B[39;00m\u001B[38;5;21;01m_accelerate\u001B[39;00m\n\u001B[0;32m     50\u001B[0m \u001B[38;5;28;01mimport\u001B[39;00m \u001B[38;5;21;01mqiskit\u001B[39;00m\u001B[38;5;21;01m.\u001B[39;00m\u001B[38;5;21;01m_numpy_compat\u001B[39;00m\n",
      "\u001B[1;31mImportError\u001B[0m: Qiskit is installed in an invalid environment that has both Qiskit >=1.0 and an earlier version. You should create a new virtual environment, and ensure that you do not mix dependencies between Qiskit <1.0 and >=1.0. Any packages that depend on 'qiskit-terra' are not compatible with Qiskit 1.0 and will need to be updated. Qiskit unfortunately cannot enforce this requirement during environment resolution. See https://qisk.it/packaging-1-0 for more detail."
     ]
    }
   ],
   "source": [
    "from qiskit import QuantumCircuit, ClassicalRegister, transpile, IBMQ\n",
    "from qiskit_aer import AerSimulator\n",
    "from qiskit.visualization import plot_histogram\n",
    "\n",
    "print(\"Qiskit and its components are installed correctly.\")\n"
   ],
   "metadata": {
    "collapsed": false,
    "ExecuteTime": {
     "end_time": "2024-08-03T20:34:16.074732100Z",
     "start_time": "2024-08-03T20:34:16.015617900Z"
    }
   }
  },
  {
   "cell_type": "code",
   "execution_count": null,
   "outputs": [],
   "source": [],
   "metadata": {
    "collapsed": false
   }
  }
 ],
 "metadata": {
  "kernelspec": {
   "display_name": "Python 3 (ipykernel)",
   "language": "python",
   "name": "python3"
  },
  "language_info": {
   "codemirror_mode": {
    "name": "ipython",
    "version": 3
   },
   "file_extension": ".py",
   "mimetype": "text/x-python",
   "name": "python",
   "nbconvert_exporter": "python",
   "pygments_lexer": "ipython3",
   "version": "3.11.0"
  }
 },
 "nbformat": 4,
 "nbformat_minor": 2
}
