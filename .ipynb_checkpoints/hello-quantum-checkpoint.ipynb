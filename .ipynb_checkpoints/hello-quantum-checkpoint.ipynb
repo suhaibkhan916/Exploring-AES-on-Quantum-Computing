{
 "cells": [
  {
   "cell_type": "code",
   "execution_count": 1,
   "metadata": {},
   "outputs": [
    {
     "data": {
      "image/png": "[encoded data removed]",
      "text/plain": [
       "<Figure size 287.294x200.667 with 1 Axes>"
      ]
     },
     "execution_count": 1,
     "metadata": {},
     "output_type": "execute_result"
    }
   ],
   "source": [
    "from qiskit import QuantumCircuit\n",
    "from qiskit.quantum_info import SparsePauliOp\n",
    "from qiskit.transpiler.preset_passmanagers import generate_preset_pass_manager\n",
    "from qiskit_ibm_runtime import EstimatorV2 as Estimator\n",
    " \n",
    "# Create a new circuit with two qubits\n",
    "qc = QuantumCircuit(2)\n",
    " \n",
    "# Add a Hadamard gate to qubit 0\n",
    "qc.h(0)\n",
    " \n",
    "# Perform a controlled-X gate on qubit 1, controlled by qubit 0\n",
    "qc.cx(0, 1)\n",
    " \n",
    "# Return a drawing of the circuit using MatPlotLib (\"mpl\"). This is the\n",
    "# last line of the cell, so the drawing appears in the cell output.\n",
    "# Remove the \"mpl\" argument to get a text drawing.\n",
    "qc.draw(\"mpl\")"
   ]
  },
  {
   "cell_type": "code",
   "execution_count": null,
   "metadata": {},
   "outputs": [],
   "source": [
    "\n"
   ]
  },
  {
   "cell_type": "code",
   "execution_count": null,
   "metadata": {},
   "outputs": [],
   "source": []
  },
  {
   "cell_type": "markdown",
   "metadata": {},
   "source": [
    "# AES Implementation "
   ]
  },
  {
   "cell_type": "code",
   "execution_count": 2,
   "metadata": {},
   "outputs": [
    {
     "name": "stdout",
     "output_type": "stream",
     "text": [
      "AES Ciphertext: MPWCLKokszCrhPuktD4Km58OIT7g5Hw4P0PAbStqRnqCA0FsjCBO\n",
      "AES Decrypted text: This is a test message.\n"
     ]
    }
   ],
   "source": [
    "from Crypto.Cipher import AES\n",
    "from Crypto.Random import get_random_bytes\n",
    "import base64\n",
    "\n",
    "def aes_encrypt(plaintext, key):\n",
    "    cipher = AES.new(key, AES.MODE_EAX)\n",
    "    nonce = cipher.nonce\n",
    "    ciphertext, tag = cipher.encrypt_and_digest(plaintext.encode('utf-8'))\n",
    "    return base64.b64encode(nonce + ciphertext).decode('utf-8')\n",
    "\n",
    "def aes_decrypt(ciphertext, key):\n",
    "    raw = base64.b64decode(ciphertext)\n",
    "    nonce = raw[:16]\n",
    "    ciphertext = raw[16:]\n",
    "    cipher = AES.new(key, AES.MODE_EAX, nonce=nonce)\n",
    "    plaintext = cipher.decrypt(ciphertext)\n",
    "    return plaintext.decode('utf-8')\n",
    "\n",
    "# Test AES functions\n",
    "key = get_random_bytes(16)\n",
    "plaintext = \"This is a test message.\"\n",
    "ciphertext = aes_encrypt(plaintext, key)\n",
    "print(\"AES Ciphertext:\", ciphertext)\n",
    "decrypted_text = aes_decrypt(ciphertext, key)\n",
    "print(\"AES Decrypted text:\", decrypted_text)\n"
   ]
  },
  {
   "cell_type": "code",
   "execution_count": null,
   "metadata": {},
   "outputs": [],
   "source": []
  },
  {
   "cell_type": "markdown",
   "metadata": {},
   "source": [
    "# NTRU Encryption Algorithm "
   ]
  },
  {
   "cell_type": "code",
   "execution_count": null,
   "metadata": {},
   "outputs": [],
   "source": []
  },
  {
   "cell_type": "code",
   "execution_count": 3,
   "metadata": {},
   "outputs": [
    {
     "name": "stdout",
     "output_type": "stream",
     "text": [
      "pycryptodome installed correctly.\n"
     ]
    }
   ],
   "source": [
    "# Verify pycryptodome\n",
    "from Crypto.Cipher import AES\n",
    "print(\"pycryptodome installed correctly.\")\n"
   ]
  },
  {
   "cell_type": "code",
   "execution_count": null,
   "metadata": {},
   "outputs": [],
   "source": []
  },
  {
   "cell_type": "code",
   "execution_count": null,
   "metadata": {},
   "outputs": [],
   "source": []
  },
  {
   "cell_type": "markdown",
   "metadata": {},
   "source": [
    "# Setting up the IBM Quantum Platform"
   ]
  },
  {
   "cell_type": "code",
   "execution_count": 4,
   "metadata": {},
   "outputs": [],
   "source": [
    "# Setting up the IBM runtime envo\n",
    "from qiskit_ibm_runtime import QiskitRuntimeService\n",
    " \n",
    "service = QiskitRuntimeService(channel=\"ibm_quantum\", token=\"9b1db8ecdf455c71e9d97b2ba4c8e3cc6dbfcc1e2ffc3b92fd5c5c5777f92796798d6ef2bdc53aebc6da1fe7b205a6dc35114382f3172a9d167469d824539767\")\n",
    " "
   ]
  },
  {
   "cell_type": "code",
   "execution_count": 10,
   "metadata": {},
   "outputs": [],
   "source": [
    "from qiskit_ibm_runtime import QiskitRuntimeService\n",
    " \n",
    "# Save an IBM Quantum account and set it as your default account.\n",
    "QiskitRuntimeService.save_account(\n",
    "    channel=\"ibm_quantum\",\n",
    "    token=\"9b1db8ecdf455c71e9d97b2ba4c8e3cc6dbfcc1e2ffc3b92fd5c5c5777f92796798d6ef2bdc53aebc6da1fe7b205a6dc35114382f3172a9d167469d824539767\",\n",
    "    set_as_default=True,\n",
    "    # Use `overwrite=True` if you're updating your token.\n",
    "    overwrite=True,\n",
    ")\n",
    " \n",
    "# Load saved credentials\n",
    "service = QiskitRuntimeService()"
   ]
  },
  {
   "cell_type": "code",
   "execution_count": 11,
   "metadata": {},
   "outputs": [
    {
     "name": "stdout",
     "output_type": "stream",
     "text": [
      "job id: ctf266r1zwrg008cpzs0\n",
      "PrimitiveResult([PubResult(data=DataBin(meas=BitArray(<shape=(), num_shots=4096, num_bits=2>)), metadata={'circuit_metadata': {}})], metadata={'version': 2})\n"
     ]
    }
   ],
   "source": [
    "# testing the setup  \n",
    "from qiskit import QuantumCircuit\n",
    "from qiskit_ibm_runtime import QiskitRuntimeService, SamplerV2 as Sampler\n",
    " \n",
    "# Create empty circuit\n",
    "example_circuit = QuantumCircuit(2)\n",
    "example_circuit.measure_all()\n",
    " \n",
    "# You'll need to specify the credentials when initializing QiskitRuntimeService, if they were not previously saved.\n",
    "service = QiskitRuntimeService()\n",
    "backend = service.least_busy(operational=True, simulator=False)\n",
    " \n",
    "sampler = Sampler(backend)\n",
    "job = sampler.run([example_circuit])\n",
    "print(f\"job id: {job.job_id()}\")\n",
    "result = job.result()\n",
    "print(result)"
   ]
  },
  {
   "cell_type": "code",
   "execution_count": 13,
   "metadata": {},
   "outputs": [],
   "source": [
    "# pip install qiskit-aer\n",
    "# !pip install qiskit-ibm-provider"
   ]
  },
  {
   "cell_type": "markdown",
   "metadata": {},
   "source": [
    "# To Simulate the AES on quantum resources "
   ]
  },
  {
   "cell_type": "code",
   "execution_count": 14,
   "metadata": {},
   "outputs": [
    {
     "name": "stderr",
     "output_type": "stream",
     "text": [
      "C:\\Users\\muham\\AppData\\Local\\Temp\\ipykernel_2568\\564776039.py:5: DeprecationWarning: The package qiskit_ibm_provider is being deprecated. Please see https://docs.quantum.ibm.com/api/migration-guides/qiskit-runtime to get instructions on how to migrate to qiskit-ibm-runtime (https://github.com/Qiskit/qiskit-ibm-runtime).\n",
      "  from qiskit_ibm_provider import IBMProvider\n"
     ]
    },
    {
     "ename": "CircuitError",
     "evalue": "'duplicate qubit arguments'",
     "output_type": "error",
     "traceback": [
      "\u001b[1;31m---------------------------------------------------------------------------\u001b[0m",
      "\u001b[1;31mCircuitError\u001b[0m                              Traceback (most recent call last)",
      "Cell \u001b[1;32mIn[14], line 40\u001b[0m\n\u001b[0;32m     38\u001b[0m shift_rows(qc, data_qubits)\n\u001b[0;32m     39\u001b[0m mix_columns(qc, data_qubits)\n\u001b[1;32m---> 40\u001b[0m \u001b[43madd_round_key\u001b[49m\u001b[43m(\u001b[49m\u001b[43mqc\u001b[49m\u001b[43m,\u001b[49m\u001b[43m \u001b[49m\u001b[43mdata_qubits\u001b[49m\u001b[43m,\u001b[49m\u001b[43m \u001b[49m\u001b[43mkey_qubits\u001b[49m\u001b[43m)\u001b[49m\n\u001b[0;32m     42\u001b[0m \u001b[38;5;66;03m# Visualize the circuit\u001b[39;00m\n\u001b[0;32m     43\u001b[0m qc\u001b[38;5;241m.\u001b[39mdraw(\u001b[38;5;124m'\u001b[39m\u001b[38;5;124mmpl\u001b[39m\u001b[38;5;124m'\u001b[39m)\n",
      "Cell \u001b[1;32mIn[14], line 31\u001b[0m, in \u001b[0;36madd_round_key\u001b[1;34m(qc, qubits, key_qubits)\u001b[0m\n\u001b[0;32m     29\u001b[0m \u001b[38;5;28;01mdef\u001b[39;00m \u001b[38;5;21madd_round_key\u001b[39m(qc, qubits, key_qubits):\n\u001b[0;32m     30\u001b[0m     \u001b[38;5;28;01mfor\u001b[39;00m i, q \u001b[38;5;129;01min\u001b[39;00m \u001b[38;5;28menumerate\u001b[39m(qubits):\n\u001b[1;32m---> 31\u001b[0m         \u001b[43mqc\u001b[49m\u001b[38;5;241;43m.\u001b[39;49m\u001b[43mcx\u001b[49m\u001b[43m(\u001b[49m\u001b[43mq\u001b[49m\u001b[43m,\u001b[49m\u001b[43m \u001b[49m\u001b[43mkey_qubits\u001b[49m\u001b[43m[\u001b[49m\u001b[43mi\u001b[49m\u001b[43m]\u001b[49m\u001b[43m)\u001b[49m\n",
      "File \u001b[1;32mE:\\MS Cyber Security\\Proposal\\Research Implementation\\venviron\\Lib\\site-packages\\qiskit\\circuit\\quantumcircuit.py:5292\u001b[0m, in \u001b[0;36mQuantumCircuit.cx\u001b[1;34m(self, control_qubit, target_qubit, label, ctrl_state)\u001b[0m\n\u001b[0;32m   5274\u001b[0m \u001b[38;5;250m\u001b[39m\u001b[38;5;124mr\u001b[39m\u001b[38;5;124;03m\"\"\"Apply :class:`~qiskit.circuit.library.CXGate`.\u001b[39;00m\n\u001b[0;32m   5275\u001b[0m \n\u001b[0;32m   5276\u001b[0m \u001b[38;5;124;03mFor the full matrix form of this gate, see the underlying gate documentation.\u001b[39;00m\n\u001b[1;32m   (...)\u001b[0m\n\u001b[0;32m   5287\u001b[0m \u001b[38;5;124;03m    A handle to the instructions created.\u001b[39;00m\n\u001b[0;32m   5288\u001b[0m \u001b[38;5;124;03m\"\"\"\u001b[39;00m\n\u001b[0;32m   5290\u001b[0m \u001b[38;5;28;01mfrom\u001b[39;00m \u001b[38;5;21;01m.\u001b[39;00m\u001b[38;5;21;01mlibrary\u001b[39;00m\u001b[38;5;21;01m.\u001b[39;00m\u001b[38;5;21;01mstandard_gates\u001b[39;00m\u001b[38;5;21;01m.\u001b[39;00m\u001b[38;5;21;01mx\u001b[39;00m \u001b[38;5;28;01mimport\u001b[39;00m CXGate\n\u001b[1;32m-> 5292\u001b[0m \u001b[38;5;28;01mreturn\u001b[39;00m \u001b[38;5;28;43mself\u001b[39;49m\u001b[38;5;241;43m.\u001b[39;49m\u001b[43mappend\u001b[49m\u001b[43m(\u001b[49m\n\u001b[0;32m   5293\u001b[0m \u001b[43m    \u001b[49m\u001b[43mCXGate\u001b[49m\u001b[43m(\u001b[49m\u001b[43mlabel\u001b[49m\u001b[38;5;241;43m=\u001b[39;49m\u001b[43mlabel\u001b[49m\u001b[43m,\u001b[49m\u001b[43m \u001b[49m\u001b[43mctrl_state\u001b[49m\u001b[38;5;241;43m=\u001b[39;49m\u001b[43mctrl_state\u001b[49m\u001b[43m)\u001b[49m\u001b[43m,\u001b[49m\n\u001b[0;32m   5294\u001b[0m \u001b[43m    \u001b[49m\u001b[43m[\u001b[49m\u001b[43mcontrol_qubit\u001b[49m\u001b[43m,\u001b[49m\u001b[43m \u001b[49m\u001b[43mtarget_qubit\u001b[49m\u001b[43m]\u001b[49m\u001b[43m,\u001b[49m\n\u001b[0;32m   5295\u001b[0m \u001b[43m    \u001b[49m\u001b[43m[\u001b[49m\u001b[43m]\u001b[49m\u001b[43m,\u001b[49m\n\u001b[0;32m   5296\u001b[0m \u001b[43m    \u001b[49m\u001b[43mcopy\u001b[49m\u001b[38;5;241;43m=\u001b[39;49m\u001b[38;5;28;43;01mFalse\u001b[39;49;00m\u001b[43m,\u001b[49m\n\u001b[0;32m   5297\u001b[0m \u001b[43m\u001b[49m\u001b[43m)\u001b[49m\n",
      "File \u001b[1;32mE:\\MS Cyber Security\\Proposal\\Research Implementation\\venviron\\Lib\\site-packages\\qiskit\\circuit\\quantumcircuit.py:2397\u001b[0m, in \u001b[0;36mQuantumCircuit.append\u001b[1;34m(self, instruction, qargs, cargs, copy)\u001b[0m\n\u001b[0;32m   2391\u001b[0m broadcast_iter \u001b[38;5;241m=\u001b[39m (\n\u001b[0;32m   2392\u001b[0m     operation\u001b[38;5;241m.\u001b[39mbroadcast_arguments(expanded_qargs, expanded_cargs)\n\u001b[0;32m   2393\u001b[0m     \u001b[38;5;28;01mif\u001b[39;00m \u001b[38;5;28misinstance\u001b[39m(operation, Instruction)\n\u001b[0;32m   2394\u001b[0m     \u001b[38;5;28;01melse\u001b[39;00m Instruction\u001b[38;5;241m.\u001b[39mbroadcast_arguments(operation, expanded_qargs, expanded_cargs)\n\u001b[0;32m   2395\u001b[0m )\n\u001b[0;32m   2396\u001b[0m \u001b[38;5;28;01mfor\u001b[39;00m qarg, carg \u001b[38;5;129;01min\u001b[39;00m broadcast_iter:\n\u001b[1;32m-> 2397\u001b[0m     \u001b[38;5;28;43mself\u001b[39;49m\u001b[38;5;241;43m.\u001b[39;49m\u001b[43m_check_dups\u001b[49m\u001b[43m(\u001b[49m\u001b[43mqarg\u001b[49m\u001b[43m)\u001b[49m\n\u001b[0;32m   2398\u001b[0m     instruction \u001b[38;5;241m=\u001b[39m CircuitInstruction(operation, qarg, carg)\n\u001b[0;32m   2399\u001b[0m     circuit_scope\u001b[38;5;241m.\u001b[39mappend(instruction)\n",
      "File \u001b[1;32mE:\\MS Cyber Security\\Proposal\\Research Implementation\\venviron\\Lib\\site-packages\\qiskit\\circuit\\quantumcircuit.py:3030\u001b[0m, in \u001b[0;36mQuantumCircuit._check_dups\u001b[1;34m(self, qubits)\u001b[0m\n\u001b[0;32m   3028\u001b[0m squbits \u001b[38;5;241m=\u001b[39m \u001b[38;5;28mset\u001b[39m(qubits)\n\u001b[0;32m   3029\u001b[0m \u001b[38;5;28;01mif\u001b[39;00m \u001b[38;5;28mlen\u001b[39m(squbits) \u001b[38;5;241m!=\u001b[39m \u001b[38;5;28mlen\u001b[39m(qubits):\n\u001b[1;32m-> 3030\u001b[0m     \u001b[38;5;28;01mraise\u001b[39;00m CircuitError(\u001b[38;5;124m\"\u001b[39m\u001b[38;5;124mduplicate qubit arguments\u001b[39m\u001b[38;5;124m\"\u001b[39m)\n",
      "\u001b[1;31mCircuitError\u001b[0m: 'duplicate qubit arguments'"
     ]
    }
   ],
   "source": [
    "# Import specific modules from Qiskit\n",
    "from qiskit import QuantumCircuit, transpile\n",
    "from qiskit_aer import AerSimulator\n",
    "from qiskit.visualization import plot_histogram\n",
    "from qiskit_ibm_provider import IBMProvider\n",
    "\n",
    "# Initialize quantum circuit\n",
    "num_qubits = 16  # Example for simplicity\n",
    "qc = QuantumCircuit(num_qubits)\n",
    "\n",
    "# Example implementation of AES components (simplified for illustration)\n",
    "\n",
    "# Implement SubBytes (S-box) - simplified example\n",
    "def sub_bytes(qc, qubits):\n",
    "    for q in qubits:\n",
    "        qc.h(q)  # Example of applying Hadamard gate (not a real S-box implementation)\n",
    "\n",
    "# Implement ShiftRows\n",
    "def shift_rows(qc, qubits):\n",
    "    for i, q in enumerate(qubits):\n",
    "        qc.cx(q, qubits[(i+1) % len(qubits)])  # Example CNOT gate\n",
    "\n",
    "# Implement MixColumns\n",
    "def mix_columns(qc, qubits):\n",
    "    for i in range(len(qubits) - 1):\n",
    "        qc.cx(qubits[i], qubits[i + 1])  # Example CNOT chain\n",
    "\n",
    "# AddRoundKey - XOR operation\n",
    "def add_round_key(qc, qubits, key_qubits):\n",
    "    for i, q in enumerate(qubits):\n",
    "        qc.cx(q, key_qubits[i])  # Example XOR with key\n",
    "\n",
    "# Example AES round\n",
    "key_qubits = range(num_qubits)\n",
    "data_qubits = range(num_qubits)\n",
    "\n",
    "sub_bytes(qc, data_qubits)\n",
    "shift_rows(qc, data_qubits)\n",
    "mix_columns(qc, data_qubits)\n",
    "add_round_key(qc, data_qubits, key_qubits)\n",
    "\n",
    "# Visualize the circuit\n",
    "qc.draw('mpl')\n",
    "\n",
    "# Execute the circuit on the simulator\n",
    "simulator = AerSimulator()\n",
    "compiled_circuit = transpile(qc, simulator)\n",
    "result = simulator.run(compiled_circuit).result()\n",
    "counts = result.get_counts()\n",
    "print(counts)\n",
    "plot_histogram(counts)\n"
   ]
  },
  {
   "cell_type": "code",
   "execution_count": 16,
   "metadata": {},
   "outputs": [
    {
     "ename": "NameError",
     "evalue": "name 'execute' is not defined",
     "output_type": "error",
     "traceback": [
      "\u001b[1;31m---------------------------------------------------------------------------\u001b[0m",
      "\u001b[1;31mNameError\u001b[0m                                 Traceback (most recent call last)",
      "Cell \u001b[1;32mIn[16], line 24\u001b[0m\n\u001b[0;32m     22\u001b[0m \u001b[38;5;66;03m# Test Quantum Circuit\u001b[39;00m\n\u001b[0;32m     23\u001b[0m qc \u001b[38;5;241m=\u001b[39m create_quantum_circuit()\n\u001b[1;32m---> 24\u001b[0m counts \u001b[38;5;241m=\u001b[39m \u001b[43msimulate_quantum_circuit\u001b[49m\u001b[43m(\u001b[49m\u001b[43mqc\u001b[49m\u001b[43m)\u001b[49m\n\u001b[0;32m     25\u001b[0m \u001b[38;5;28mprint\u001b[39m(\u001b[38;5;124m\"\u001b[39m\u001b[38;5;124mSimulation result:\u001b[39m\u001b[38;5;124m\"\u001b[39m, counts)\n\u001b[0;32m     26\u001b[0m plot_histogram(counts)\n",
      "Cell \u001b[1;32mIn[16], line 18\u001b[0m, in \u001b[0;36msimulate_quantum_circuit\u001b[1;34m(qc)\u001b[0m\n\u001b[0;32m     16\u001b[0m compiled_circuit \u001b[38;5;241m=\u001b[39m transpile(qc, simulator)\n\u001b[0;32m     17\u001b[0m qobj \u001b[38;5;241m=\u001b[39m assemble(compiled_circuit)\n\u001b[1;32m---> 18\u001b[0m result \u001b[38;5;241m=\u001b[39m \u001b[43mexecute\u001b[49m(qc, backend\u001b[38;5;241m=\u001b[39msimulator)\u001b[38;5;241m.\u001b[39mresult()\n\u001b[0;32m     19\u001b[0m counts \u001b[38;5;241m=\u001b[39m result\u001b[38;5;241m.\u001b[39mget_counts(qc)\n\u001b[0;32m     20\u001b[0m \u001b[38;5;28;01mreturn\u001b[39;00m counts\n",
      "\u001b[1;31mNameError\u001b[0m: name 'execute' is not defined"
     ]
    }
   ],
   "source": [
    "from qiskit import QuantumCircuit, transpile, assemble\n",
    "from qiskit_aer import Aer\n",
    "from qiskit.visualization import plot_histogram\n",
    "import matplotlib.pyplot as plt\n",
    "\n",
    "def create_quantum_circuit():\n",
    "    qc = QuantumCircuit(2, 2)\n",
    "    qc.h(0)\n",
    "    qc.cx(0, 1)\n",
    "    qc.h(0)\n",
    "    qc.measure([0, 1], [0, 1])\n",
    "    return qc\n",
    "\n",
    "def simulate_quantum_circuit(qc):\n",
    "    simulator = Aer.get_backend('qasm_simulator')\n",
    "    compiled_circuit = transpile(qc, simulator)\n",
    "    qobj = assemble(compiled_circuit)\n",
    "    result = execute(qc, backend=simulator).result()\n",
    "    counts = result.get_counts(qc)\n",
    "    return counts\n",
    "\n",
    "# Test Quantum Circuit\n",
    "qc = create_quantum_circuit()\n",
    "counts = simulate_quantum_circuit(qc)\n",
    "print(\"Simulation result:\", counts)\n",
    "plot_histogram(counts)\n",
    "plt.show()\n"
   ]
  },
  {
   "cell_type": "code",
   "execution_count": null,
   "metadata": {},
   "outputs": [],
   "source": []
  },
  {
   "cell_type": "code",
   "execution_count": 4,
   "metadata": {},
   "outputs": [
    {
     "name": "stdout",
     "output_type": "stream",
     "text": [
      "Simulation result: {'0000': 237, '1100': 266, '0011': 262, '1111': 259}\n"
     ]
    },
    {
     "name": "stderr",
     "output_type": "stream",
     "text": [
      "C:\\Users\\muham\\AppData\\Local\\Temp\\ipykernel_10604\\496772568.py:53: UserWarning: FigureCanvasAgg is non-interactive, and thus cannot be shown\n",
      "  plot_histogram(counts).show()\n"
     ]
    }
   ],
   "source": [
    "from qiskit import QuantumCircuit, transpile, assemble\n",
    "from qiskit.visualization import plot_histogram\n",
    "from qiskit_aer import AerSimulator\n",
    "from qiskit_ibm_provider import IBMProvider\n",
    "from qiskit_ibm_provider import least_busy\n",
    "\n",
    "# Function to initialize the quantum state with the plaintext\n",
    "def initialize_state(qc, plaintext):\n",
    "    for i, bit in enumerate(plaintext):\n",
    "        if bit == '1':\n",
    "            qc.x(i)\n",
    "\n",
    "# Simplified AES round function for demonstration\n",
    "def aes_round(qc, key):\n",
    "    for i in range(len(key)):\n",
    "        if key[i] == '1':\n",
    "            qc.cx(i, (i + 1) % len(key))  # Simplified substitution step\n",
    "            qc.h(i)                      # Simplified permutation step\n",
    "\n",
    "# Function to run the AES encryption process\n",
    "def aes_encryption(plaintext, key):\n",
    "    n = len(plaintext)\n",
    "    qc = QuantumCircuit(n, n)\n",
    "    \n",
    "    # Initialize the quantum state\n",
    "    initialize_state(qc, plaintext)\n",
    "    \n",
    "    # Apply the AES round (repeated for simplicity)\n",
    "    for _ in range(3):  # Adjust the number of rounds as needed\n",
    "        aes_round(qc, key)\n",
    "    \n",
    "    # Measure the qubits\n",
    "    qc.measure(range(n), range(n))\n",
    "    \n",
    "    return qc\n",
    "\n",
    "# Define plaintext and key (binary strings for simplicity)\n",
    "plaintext = '1101'\n",
    "key = '1010'\n",
    "\n",
    "# Create the quantum circuit\n",
    "qc = aes_encryption(plaintext, key)\n",
    "\n",
    "# Simulate the circuit\n",
    "simulator = AerSimulator()\n",
    "compiled_circuit = transpile(qc, simulator)\n",
    "qobj = assemble(compiled_circuit)\n",
    "result = simulator.run(compiled_circuit).result()\n",
    "counts = result.get_counts()\n",
    "\n",
    "# Output the simulation result\n",
    "print(\"Simulation result:\", counts)\n",
    "plot_histogram(counts).show()"
   ]
  },
  {
   "cell_type": "code",
   "execution_count": null,
   "metadata": {},
   "outputs": [],
   "source": [
    "# Running on IBM Quantum hardware\n",
    "def run_on_ibm_hardware(qc):\n",
    "    # Load your IBM Quantum account\n",
    "    IBMProvider.save_account('YOUR_IBM_QUANTUM_API_KEY')\n",
    "    provider = IBMProvider()\n",
    "    \n",
    "    # Get the least busy backend\n",
    "    backend = least_busy(provider.backends(filters=lambda b: b.configuration().n_qubits >= 5 and not b.configuration().simulator and b.status().operational==True))\n",
    "    print(\"Running on backend:\", backend)\n",
    "    \n",
    "    # Transpile the circuit for the backend\n",
    "    compiled_circuit = transpile(qc, backend)\n",
    "    \n",
    "    # Execute the circuit\n",
    "    job = backend.run(compiled_circuit)\n",
    "    result = job.result()\n",
    "    counts = result.get_counts()\n",
    "    \n",
    "    # Output the hardware execution result\n",
    "    print(\"Hardware execution result:\", counts)\n",
    "    plot_histogram(counts).show()\n",
    "\n",
    "# Uncomment the following line to run on IBM Quantum hardware\n",
    "# run_on_ibm_hardware(qc)"
   ]
  },
  {
   "cell_type": "code",
   "execution_count": null,
   "metadata": {},
   "outputs": [
    {
     "ename": "IndexError",
     "evalue": "range object index out of range",
     "output_type": "error",
     "traceback": [
      "\u001b[1;31m---------------------------------------------------------------------------\u001b[0m",
      "\u001b[1;31mIndexError\u001b[0m                                Traceback (most recent call last)",
      "Cell \u001b[1;32mIn [6], line 63\u001b[0m\n\u001b[0;32m     60\u001b[0m key \u001b[38;5;241m=\u001b[39m \u001b[38;5;124m'\u001b[39m\u001b[38;5;124m1010\u001b[39m\u001b[38;5;124m'\u001b[39m\n\u001b[0;32m     62\u001b[0m \u001b[38;5;66;03m# Create the quantum circuit\u001b[39;00m\n\u001b[1;32m---> 63\u001b[0m qc \u001b[38;5;241m=\u001b[39m aes_encryption(plaintext, key)\n\u001b[0;32m     65\u001b[0m \u001b[38;5;66;03m# Simulate the circuit\u001b[39;00m\n\u001b[0;32m     66\u001b[0m simulator \u001b[38;5;241m=\u001b[39m AerSimulator()\n",
      "Cell \u001b[1;32mIn [6], line 49\u001b[0m, in \u001b[0;36maes_encryption\u001b[1;34m(plaintext, key)\u001b[0m\n\u001b[0;32m     47\u001b[0m \u001b[38;5;28;01mfor\u001b[39;00m _ \u001b[38;5;129;01min\u001b[39;00m \u001b[38;5;28mrange\u001b[39m(\u001b[38;5;241m3\u001b[39m):  \u001b[38;5;66;03m# Number of rounds adjusted for simplicity\u001b[39;00m\n\u001b[0;32m     48\u001b[0m     sub_bytes(qc, \u001b[38;5;28mrange\u001b[39m(n))\n\u001b[1;32m---> 49\u001b[0m     \u001b[43mshift_rows\u001b[49m\u001b[43m(\u001b[49m\u001b[43mqc\u001b[49m\u001b[43m,\u001b[49m\u001b[43m \u001b[49m\u001b[38;5;28;43mrange\u001b[39;49m\u001b[43m(\u001b[49m\u001b[43mn\u001b[49m\u001b[43m)\u001b[49m\u001b[43m)\u001b[49m\n\u001b[0;32m     50\u001b[0m     mix_columns(qc, \u001b[38;5;28mrange\u001b[39m(n))\n\u001b[0;32m     51\u001b[0m     add_round_key(qc, key)\n",
      "Cell \u001b[1;32mIn [6], line 21\u001b[0m, in \u001b[0;36mshift_rows\u001b[1;34m(qc, qubits)\u001b[0m\n\u001b[0;32m     19\u001b[0m \u001b[38;5;28;01mdef\u001b[39;00m \u001b[38;5;21mshift_rows\u001b[39m(qc, qubits):\n\u001b[0;32m     20\u001b[0m     \u001b[38;5;66;03m# Assuming a 4x4 block for simplicity\u001b[39;00m\n\u001b[1;32m---> 21\u001b[0m     qc\u001b[38;5;241m.\u001b[39mcx(qubits[\u001b[38;5;241m1\u001b[39m], \u001b[43mqubits\u001b[49m\u001b[43m[\u001b[49m\u001b[38;5;241;43m5\u001b[39;49m\u001b[43m]\u001b[49m)\n\u001b[0;32m     22\u001b[0m     qc\u001b[38;5;241m.\u001b[39mcx(qubits[\u001b[38;5;241m2\u001b[39m], qubits[\u001b[38;5;241m10\u001b[39m])\n\u001b[0;32m     23\u001b[0m     qc\u001b[38;5;241m.\u001b[39mcx(qubits[\u001b[38;5;241m3\u001b[39m], qubits[\u001b[38;5;241m15\u001b[39m])\n",
      "\u001b[1;31mIndexError\u001b[0m: range object index out of range"
     ]
    }
   ],
   "source": [
    "from qiskit import QuantumCircuit, transpile, assemble\n",
    "from qiskit.visualization import plot_histogram\n",
    "from qiskit_aer import AerSimulator\n",
    "from qiskit_ibm_provider import IBMProvider\n",
    "from qiskit_ibm_provider import least_busy\n",
    "\n",
    "# Function to initialize the quantum state with the plaintext\n",
    "def initialize_state(qc, plaintext):\n",
    "    for i, bit in enumerate(plaintext):\n",
    "        if bit == '1':\n",
    "            qc.x(i)\n",
    "\n",
    "# Placeholder for SubBytes using quantum S-box\n",
    "def sub_bytes(qc, qubits):\n",
    "    for qubit in qubits:\n",
    "        qc.h(qubit)  # Hadamard gate as a placeholder for actual S-box\n",
    "\n",
    "# Placeholder for ShiftRows\n",
    "def shift_rows(qc, qubits):\n",
    "    # Assuming a 4x4 block for simplicity\n",
    "    qc.cx(qubits[1], qubits[5])\n",
    "    qc.cx(qubits[2], qubits[10])\n",
    "    qc.cx(qubits[3], qubits[15])\n",
    "\n",
    "# Placeholder for MixColumns\n",
    "def mix_columns(qc, qubits):\n",
    "    # MixColumns is a linear transformation\n",
    "    # For simplicity, using CNOT gates as placeholders\n",
    "    for i in range(len(qubits)):\n",
    "        qc.cx(qubits[i], qubits[(i + 1) % len(qubits)])\n",
    "\n",
    "# AddRoundKey function\n",
    "def add_round_key(qc, key):\n",
    "    for i in range(len(key)):\n",
    "        if key[i] == '1':\n",
    "            qc.cx(i, (i + 1) % len(key))\n",
    "\n",
    "# Function to run the AES encryption process\n",
    "def aes_encryption(plaintext, key):\n",
    "    n = len(plaintext)\n",
    "    qc = QuantumCircuit(n, n)\n",
    "    \n",
    "    # Initialize the quantum state\n",
    "    initialize_state(qc, plaintext)\n",
    "    \n",
    "    # Apply the AES rounds (simplified for demonstration)\n",
    "    for _ in range(3):  # Number of rounds adjusted for simplicity\n",
    "        sub_bytes(qc, range(n))\n",
    "        shift_rows(qc, range(n))\n",
    "        mix_columns(qc, range(n))\n",
    "        add_round_key(qc, key)\n",
    "    \n",
    "    # Measure the qubits\n",
    "    qc.measure(range(n), range(n))\n",
    "    \n",
    "    return qc\n",
    "\n",
    "# Define plaintext and key (binary strings for simplicity)\n",
    "plaintext = '1101'\n",
    "key = '1010'\n",
    "\n",
    "# Create the quantum circuit\n",
    "qc = aes_encryption(plaintext, key)\n",
    "\n",
    "# Simulate the circuit\n",
    "simulator = AerSimulator()\n",
    "compiled_circuit = transpile(qc, simulator)\n",
    "qobj = assemble(compiled_circuit)\n",
    "result = simulator.run(compiled_circuit).result()\n",
    "counts = result.get_counts()\n",
    "\n",
    "# Output the simulation result\n",
    "print(\"Simulation result:\", counts)\n",
    "plot_histogram(counts).show()"
   ]
  },
  {
   "cell_type": "code",
   "execution_count": 5,
   "metadata": {},
   "outputs": [
    {
     "ename": "ImportError",
     "evalue": "cannot import name 'Aer' from 'qiskit' (C:\\Users\\muham\\AppData\\Local\\Programs\\Python\\Python310\\lib\\site-packages\\qiskit\\__init__.py)",
     "output_type": "error",
     "traceback": [
      "\u001b[1;31m---------------------------------------------------------------------------\u001b[0m",
      "\u001b[1;31mImportError\u001b[0m                               Traceback (most recent call last)",
      "Cell \u001b[1;32mIn [5], line 1\u001b[0m\n\u001b[1;32m----> 1\u001b[0m \u001b[38;5;28;01mfrom\u001b[39;00m \u001b[38;5;21;01mqiskit\u001b[39;00m \u001b[38;5;28;01mimport\u001b[39;00m QuantumCircuit, ClassicalRegister, QuantumRegister, Aer, transpile, assemble, execute\n\u001b[0;32m      2\u001b[0m \u001b[38;5;28;01mfrom\u001b[39;00m \u001b[38;5;21;01mqiskit\u001b[39;00m\u001b[38;5;21;01m.\u001b[39;00m\u001b[38;5;21;01mvisualization\u001b[39;00m \u001b[38;5;28;01mimport\u001b[39;00m plot_histogram\n\u001b[0;32m      4\u001b[0m \u001b[38;5;66;03m# Function to initialize the quantum state with the plaintext\u001b[39;00m\n",
      "\u001b[1;31mImportError\u001b[0m: cannot import name 'Aer' from 'qiskit' (C:\\Users\\muham\\AppData\\Local\\Programs\\Python\\Python310\\lib\\site-packages\\qiskit\\__init__.py)"
     ]
    }
   ],
   "source": [
    "from qiskit import QuantumCircuit, ClassicalRegister, QuantumRegister, Aer, transpile, assemble, execute\n",
    "from qiskit.visualization import plot_histogram\n",
    "\n",
    "# Function to initialize the quantum state with the plaintext\n",
    "def initialize_state(qc, plaintext, qubits):\n",
    "    for i, bit in enumerate(plaintext):\n",
    "        if bit == '1':\n",
    "            qc.x(qubits[i])\n",
    "\n",
    "# SubBytes operation using the S-box\n",
    "def sub_bytes(qc, qubits):\n",
    "    for i in range(len(qubits)):\n",
    "        qc.h(qubits[i])  # Simplified placeholder for the S-box transformation\n",
    "        # Apply the S-box transformation as per Boyar and Peralta's approach\n",
    "        # This needs to be replaced with the actual S-box circuit described in the paper\n",
    "\n",
    "# ShiftRows operation\n",
    "def shift_rows(qc, qubits):\n",
    "    qc.swap(qubits[1], qubits[5])\n",
    "    qc.swap(qubits[2], qubits[10])\n",
    "    qc.swap(qubits[3], qubits[15])\n",
    "    qc.swap(qubits[6], qubits[14])\n",
    "    qc.swap(qubits[7], qubits[11])\n",
    "    qc.swap(qubits[8], qubits[13])\n",
    "    qc.swap(qubits[9], qubits[12])\n",
    "\n",
    "# MixColumns operation\n",
    "def mix_columns(qc, qubits):\n",
    "    # MixColumns using CNOT gates\n",
    "    for i in range(0, len(qubits), 4):\n",
    "        qc.cx(qubits[i], qubits[i+1])\n",
    "        qc.cx(qubits[i+1], qubits[i+2])\n",
    "        qc.cx(qubits[i+2], qubits[i+3])\n",
    "        qc.cx(qubits[i+3], qubits[i])\n",
    "\n",
    "# AddRoundKey operation\n",
    "def add_round_key(qc, key, qubits):\n",
    "    for i, bit in enumerate(key):\n",
    "        if bit == '1':\n",
    "            qc.x(qubits[i])\n",
    "\n",
    "# Function to run the AES encryption process\n",
    "def aes_encryption(plaintext, key):\n",
    "    n = len(plaintext)\n",
    "    qr = QuantumRegister(n)\n",
    "    cr = ClassicalRegister(n)\n",
    "    qc = QuantumCircuit(qr, cr)\n",
    "\n",
    "    initialize_state(qc, plaintext, qr)\n",
    "\n",
    "    add_round_key(qc, key, qr)\n",
    "\n",
    "    for _ in range(3):  # Simplified round\n",
    "        sub_bytes(qc, qr)\n",
    "        shift_rows(qc, qr)\n",
    "        mix_columns(qc, qr)\n",
    "        add_round_key(qc, key, qr)\n",
    "\n",
    "    sub_bytes(qc, qr)\n",
    "    shift_rows(qc, qr)\n",
    "    add_round_key(qc, key, qr)\n",
    "\n",
    "    qc.measure(qr, cr)\n",
    "    return qc\n",
    "\n",
    "# Example plaintext and key (use 16-bit for simplicity)\n",
    "plaintext = '1100110011001100'\n",
    "key = '1010101010101010'\n",
    "\n",
    "# Create the quantum circuit\n",
    "qc = aes_encryption(plaintext, key)\n",
    "\n",
    "# Simulate the circuit\n",
    "simulator = Aer.get_backend('qasm_simulator')\n",
    "compiled_circuit = transpile(qc, simulator)\n",
    "qobj = assemble(compiled_circuit)\n",
    "result = execute(compiled_circuit, backend=simulator).result()\n",
    "\n",
    "# Get and print the simulation results\n",
    "counts = result.get_counts()\n",
    "print(\"Simulation result:\", counts)\n",
    "plot_histogram(counts).show()\n"
   ]
  },
  {
   "cell_type": "code",
   "execution_count": null,
   "metadata": {},
   "outputs": [],
   "source": []
  },
  {
   "cell_type": "code",
   "execution_count": null,
   "metadata": {},
   "outputs": [],
   "source": []
  }
 ],
 "metadata": {
  "kernelspec": {
   "display_name": "Python 3 (ipykernel)",
   "language": "python",
   "name": "python3"
  },
  "language_info": {
   "codemirror_mode": {
    "name": "ipython",
    "version": 3
   },
   "file_extension": ".py",
   "mimetype": "text/x-python",
   "name": "python",
   "nbconvert_exporter": "python",
   "pygments_lexer": "ipython3",
   "version": "3.11.0"
  }
 },
 "nbformat": 4,
 "nbformat_minor": 4
}
