{
 "cells": [
  {
   "cell_type": "code",
   "execution_count": 11,
   "metadata": {},
   "outputs": [
    {
     "name": "stdout",
     "output_type": "stream",
     "text": [
      "AES Ciphertext: qTvBhPpoYbfdXWbLCmn6sDfAKldCq2TJkcdZ0KHhp77n9ciXUbGJ\n",
      "AES Decrypted text: This is a test message.\n"
     ]
    }
   ],
   "source": [
    "from Crypto.Cipher import AES\n",
    "from Crypto.Random import get_random_bytes\n",
    "import base64\n",
    "\n",
    "def aes_encrypt(plaintext, key):\n",
    "    cipher = AES.new(key, AES.MODE_EAX)\n",
    "    nonce = cipher.nonce\n",
    "    ciphertext, tag = cipher.encrypt_and_digest(plaintext.encode('utf-8'))\n",
    "    return base64.b64encode(nonce + ciphertext).decode('utf-8')\n",
    "\n",
    "def aes_decrypt(ciphertext, key):\n",
    "    raw = base64.b64decode(ciphertext)\n",
    "    nonce = raw[:16]\n",
    "    ciphertext = raw[16:]\n",
    "    cipher = AES.new(key, AES.MODE_EAX, nonce=nonce)\n",
    "    plaintext = cipher.decrypt(ciphertext)\n",
    "    return plaintext.decode('utf-8')\n",
    "\n",
    "\n",
    "# Test AES functions\n",
    "key = get_random_bytes(16)\n",
    "plaintext = \"This is a test message.\"\n",
    "ciphertext = aes_encrypt(plaintext, key)\n",
    "print(\"AES Ciphertext:\", ciphertext)\n",
    "decrypted_text = aes_decrypt(ciphertext, key)\n",
    "print(\"AES Decrypted text:\", decrypted_text)\n"
   ]
  },
  {
   "cell_type": "code",
   "execution_count": null,
   "outputs": [],
   "source": [],
   "metadata": {
    "collapsed": false
   }
  },
  {
   "cell_type": "code",
   "execution_count": null,
   "outputs": [],
   "source": [],
   "metadata": {
    "collapsed": false,
    "ExecuteTime": {
     "end_time": "2024-07-25T00:10:28.901768400Z",
     "start_time": "2024-07-25T00:10:28.883763200Z"
    }
   }
  },
  {
   "cell_type": "code",
   "execution_count": null,
   "metadata": {},
   "outputs": [],
   "source": []
  },
  {
   "cell_type": "code",
   "execution_count": null,
   "metadata": {},
   "outputs": [],
   "source": []
  }
 ],
 "metadata": {
  "kernelspec": {
   "display_name": "Python 3 (ipykernel)",
   "language": "python",
   "name": "python3"
  }
 },
 "nbformat": 4,
 "nbformat_minor": 2
}
